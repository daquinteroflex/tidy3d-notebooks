{
 "cells": [
  {
   "cell_type": "markdown",
   "id": "d14de7a8",
   "metadata": {},
   "source": [
    "# Designing and Optimizing a Coupled Line Bandpass Filter\n",
    "Microwave filters serve as essential components in microwave and radio frequency communication systems. These critical building blocks help us exert control over the frequencies that are transmitted through a system. Implementing microwave filters can be achieved through various methods, for example, utilizing lumped elements, sections of transmission lines, or a combination of both.\n",
    "\n",
    "In this notebook, we will guide you through the process of designing and validating a bandpass filter using multiple sections of coupled microstrip lines. This practical application example is based on design specifications from the study [Ragani Taoufik, N. Amar Touhami, and M. Agoutane, \"Designing a Microstrip coupled line bandpass filter\", International Journal of Engineering and Technology 2(4), 266-269 (2013)](https://doi.org/10.14419/ijet.v2i4.1173). The specifications outlined in the study are aimed at creating a bandpass filter centered at 6 GHz with a bandwidth of 2 GHz.\n",
    "\n",
    "To take it a step further, we will also demonstrate how to design an improved coupled line filter that is more closely centered at 6 GHz with an improved return loss. This will be achieved by leveraging the powerful `optimize` module from the widely-used `SciPy` package. By the end of this notebook, you will have a deeper understanding of how to use `Tidy3D` and the microwave plugin to design, simulate, and validate microwave networks."
   ]
  },
  {
   "cell_type": "code",
   "execution_count": 1,
   "id": "c39755d4",
   "metadata": {},
   "outputs": [],
   "source": [
    "# Tidy3d imports\n",
    "import tidy3d as td\n",
    "\n",
    "# Tidy3d plugin imports\n",
    "import tidy3d.plugins.smatrix as smatrix\n",
    "import tidy3d.plugins.microwave as mw\n",
    "\n",
    "# External modules needed for this notebook\n",
    "import numpy as np\n",
    "import matplotlib.ticker as ticker\n",
    "import matplotlib.pyplot as plt\n",
    "import skrf as rf  # For validation using circuit models of the filter\n",
    "from scipy import (\n",
    "    optimize as opt,\n",
    ")  # Used to optimize microstrip parameters for the filter"
   ]
  },
  {
   "cell_type": "markdown",
   "id": "54d17567",
   "metadata": {},
   "source": [
    "# Filter Design and Microstrip Parameters\n",
    "\n",
    "We start from the coupled line filter proposed by Taoufik *et al*. [1]. In [1], the filter is designed using the insertion loss method, which is described in [2]. A full explanation of the insertion loss method is out of the scope of this notebook. In brief, given a set of design goals for a filter, for example, central frequency, bandwidth, and filter order, a lumped element model for the filter can be selected by referring to a prototype filter. The prototype filter is associated with a list of element values, which themselves represent resistances, capacitances, and inductances. In the case of a coupled lined filter, these lumped element values are transformed into a list of coupled line sections with desired even and odd characteristic line impedances, see [2]. In [1], these element values, even and odd charateristic impedances, and their corresponding realizations as coupled microstrip lines are tabulated.\n",
    "\n",
    "The designed filter in [1] is made up of four segments with the parameters given below:\n",
    "\n",
    "| Segment  | Width (mm) |  Length (mm) |  Gap (mm) |\n",
    "| -------- | ---------- | ------------ | --------- |\n",
    "| 1 | 1.4 | 6 | 0.2 |\n",
    "| 2 | 2.4 | 6 | 0.2 |\n",
    "| 3 | 2.4 | 6 | 0.2 |\n",
    "| 4 | 1.4 | 6 | 0.2 |\n",
    "\n",
    "Using these parameters a `Tidy3D` simulation is set up that uses the TerminalComponentModeler to extract scattering parameters from this 2-port device."
   ]
  },
  {
   "cell_type": "code",
   "execution_count": 2,
   "id": "0d22504b",
   "metadata": {},
   "outputs": [],
   "source": [
    "# Frequency range of interest is 2-10 GHz\n",
    "freq0 = 6e9\n",
    "# A sample frequency that is within the stopband of the filter\n",
    "freq_stopband = 3e9\n",
    "freqs = np.linspace(2, 10, 101) * 1e9\n",
    "fwidth = 0.5 * (np.max(freqs) - np.min(freqs))\n",
    "lda0 = td.C_0 / freq0  # Central wavelength\n",
    "\n",
    "# Materials used in this simulation\n",
    "PEC = td.PECMedium()\n",
    "eps_sub = 4.3  # Substrate permittivity\n",
    "sub_medium = td.Medium(permittivity=eps_sub)  # define substrate medium\n",
    "\n",
    "mm = 1e3  # Scaling used for millimeters\n",
    "# Large value to ensure structures extend outside simulation domain\n",
    "inf_eff = 1000 * mm\n",
    "\n",
    "# Geometry parameters common to all designs\n",
    "h_sub = 1.56 * mm  # Substrate thickness\n",
    "h_trace = 0.035 * mm  # Thickness of metal layers\n",
    "\n",
    "# Microstrip parameters taken from [1]\n",
    "strips_W = [1.4 * mm, 2.4 * mm, 2.4 * mm, 1.4 * mm]\n",
    "strips_L = [6 * mm, 6 * mm, 6 * mm, 6 * mm]\n",
    "strips_G = [0.2 * mm, 0.2 * mm, 0.2 * mm, 0.2 * mm]\n",
    "\n",
    "# Numpy arrays of the microstrip dimensions\n",
    "lengths = np.array(strips_L)\n",
    "widths = np.array(strips_W)\n",
    "gaps = np.array(strips_G)"
   ]
  },
  {
   "cell_type": "markdown",
   "id": "b3ce27ba",
   "metadata": {},
   "source": [
    "To facilitate the creation of the coupled line filter geometry, we define two helper functions below that generate coupled microstrips given lists of their lengths, widths, and gaps."
   ]
  },
  {
   "cell_type": "code",
   "execution_count": 3,
   "id": "9801758a",
   "metadata": {},
   "outputs": [],
   "source": [
    "# This helper function generates the starting positions of the coupled microstrip line segments\n",
    "def get_coupled_line_geometry(lengths, widths, gaps):\n",
    "    # Coupled lines are generated from upper left to lower right centered at the origin\n",
    "    total_length = np.sum(lengths)\n",
    "    # Compute the total width\n",
    "    total_width = 0\n",
    "    prev_width = 0\n",
    "    # Coupled line segments are aligned differently depending on their relative widths\n",
    "    for width, gap in zip(widths, gaps):\n",
    "        total_width += width + gap\n",
    "        if width > prev_width:\n",
    "            total_width += width - prev_width\n",
    "        prev_width = width\n",
    "\n",
    "    # Compute the starting positions of each segment the left bound and the top bound\n",
    "    xstarts = []\n",
    "    ystarts = []\n",
    "\n",
    "    prev_xstart = -total_length / 2\n",
    "    prev_ystart = total_width / 2\n",
    "    prev_length = 0\n",
    "    prev_width = 0\n",
    "    prev_gap = 0\n",
    "    for length, width, gap in zip(lengths, widths, gaps):\n",
    "        # Compute x position of the segment (left bound)\n",
    "        xstarts.append(prev_xstart + prev_length)\n",
    "\n",
    "        # Compute y position of the segment (top bound)\n",
    "        ystart = prev_ystart - prev_width - prev_gap\n",
    "        if width < prev_width:\n",
    "            ystart += width - prev_width\n",
    "        ystarts.append(ystart)\n",
    "\n",
    "        prev_xstart = xstarts[-1]\n",
    "        prev_ystart = ystarts[-1]\n",
    "        prev_length = length\n",
    "        prev_width = width\n",
    "        prev_gap = gap\n",
    "\n",
    "    return total_length, total_width, xstarts, ystarts\n",
    "\n",
    "\n",
    "# Generate the tidy3d structures representing the coupled line segments\n",
    "# using the previously computed positions\n",
    "def generate_coupled_lines(lengths, widths, gaps, xstarts, ystarts):\n",
    "    coupled_lines = []\n",
    "    # Each segment is composed of two microstrips\n",
    "    for length, width, gap, xstart, ystart in zip(\n",
    "        lengths, widths, gaps, xstarts, ystarts\n",
    "    ):\n",
    "        coupled_lines.append(\n",
    "            td.Structure(\n",
    "                geometry=td.Box.from_bounds(\n",
    "                    rmin=(xstart, ystart - width, 0),\n",
    "                    rmax=(xstart + length, ystart, h_trace),\n",
    "                ),\n",
    "                medium=PEC,\n",
    "            )\n",
    "        )\n",
    "        coupled_lines.append(\n",
    "            td.Structure(\n",
    "                geometry=td.Box.from_bounds(\n",
    "                    rmin=(xstart, ystart - 2 * width - gap, 0),\n",
    "                    rmax=(xstart + length, ystart - width - gap, h_trace),\n",
    "                ),\n",
    "                medium=PEC,\n",
    "            )\n",
    "        )\n",
    "    return coupled_lines"
   ]
  },
  {
   "cell_type": "markdown",
   "id": "0afe1325",
   "metadata": {},
   "source": [
    "Now we may easily create and view the structure."
   ]
  },
  {
   "cell_type": "code",
   "execution_count": 4,
   "id": "882e2718",
   "metadata": {},
   "outputs": [
    {
     "data": {
      "image/png": "[encoded data removed]",
      "text/plain": [
       "<Figure size 640x480 with 1 Axes>"
      ]
     },
     "metadata": {},
     "output_type": "display_data"
    }
   ],
   "source": [
    "# Create the structures and geometry of the coupled line bandpass filter\n",
    "(total_L, total_W, xstarts, ystarts) = get_coupled_line_geometry(lengths, widths, gaps)\n",
    "coupled_lines = generate_coupled_lines(lengths, widths, gaps, xstarts, ystarts)\n",
    "# Create the substrate block\n",
    "substrate = td.Structure(\n",
    "    geometry=td.Box.from_bounds(rmin=(-inf_eff, -inf_eff, -inf_eff), rmax=(inf_eff, inf_eff, 0)),\n",
    "    medium=sub_medium,\n",
    ")\n",
    "# Define the simulation domain size with some extra padding based on central wavelength\n",
    "Lx = total_L + lda0 / 5\n",
    "Ly = total_W + lda0 / 5\n",
    "Lz = h_sub + lda0 / 8\n",
    "\n",
    "# View the created line coupler\n",
    "fig, ax = plt.subplots()\n",
    "for geo in coupled_lines:\n",
    "    geo.plot(z=0, ax=ax)\n",
    "# Formatter to help plotting in units of millimeters\n",
    "formatter = ticker.FuncFormatter(lambda y, _: \"{:g}\".format((1e-3) * y))\n",
    "xlbl = \"x (mm)\"\n",
    "ylbl = \"y (mm)\"\n",
    "# Update plot labels\n",
    "ax.xaxis.set_major_formatter(formatter)\n",
    "ax.yaxis.set_major_formatter(formatter)\n",
    "ax.set_xlabel(xlbl)\n",
    "ax.set_ylabel(ylbl)\n",
    "ax.set_xlim(-Lx / 2, Lx / 2)\n",
    "ax.set_ylim(-Ly / 2, Ly / 2)\n",
    "ax.set_title(\"Top view of coupler from [1]\")\n",
    "plt.show()"
   ]
  },
  {
   "cell_type": "markdown",
   "id": "10621860",
   "metadata": {},
   "source": [
    "With the structure created, we now set up the `Tidy3D` Simulation that will be used by the TerminalComponentModeler.\n",
    "\n",
    "First, we define mesh overrides structures so that the small height of the microstrips is captured accurately. In addition, we ensure that there are plenty of cells along the width and length of the structure where the fields will be strongly confined."
   ]
  },
  {
   "cell_type": "code",
   "execution_count": 5,
   "id": "a69d7761",
   "metadata": {},
   "outputs": [],
   "source": [
    "# Definition of mesh overrides\n",
    "mesh_overrides = [\n",
    "    # The first mesh override ensures the small height of the strips is accurately modeled.\n",
    "    td.MeshOverrideStructure(\n",
    "        geometry=td.Box(\n",
    "            center=[0, 0, h_trace / 2],\n",
    "            size=[1.1 * total_L, 1.1 * total_W, h_trace],\n",
    "        ),\n",
    "        dl=[total_L / 200, np.min(widths) / 20, h_trace],\n",
    "    ),\n",
    "    # The second mesh override refined the grid within the substrate.\n",
    "    td.MeshOverrideStructure(\n",
    "        geometry=td.Box(\n",
    "            center=[0, 0, -h_sub / 2],\n",
    "            size=[1.1 * total_L, 1.1 * total_W, h_sub],\n",
    "        ),\n",
    "        dl=[total_L / 200, np.min(widths) / 20, h_sub / 20],\n",
    "    ),\n",
    "]"
   ]
  },
  {
   "cell_type": "markdown",
   "id": "0d7e1131",
   "metadata": {},
   "source": [
    "Now, the rest of the components are set up for the `Tidy3D` simulation. Note the use of a PEC boundary condition for the minus *z* axis, which simplifies the modeling of the microstrips' ground plane."
   ]
  },
  {
   "cell_type": "code",
   "execution_count": 6,
   "id": "d68b9243",
   "metadata": {},
   "outputs": [],
   "source": [
    "# Field monitor to view the electromagnetic fields along the propagation direction.\n",
    "field_monitor = td.FieldMonitor(\n",
    "    center=(0, 0, -h_sub / 2),\n",
    "    size=(td.inf, td.inf, 0),\n",
    "    freqs=[freq_stopband, freq0],\n",
    "    name=\"field\",\n",
    ")\n",
    "# Boundary conditions are perfectly matched layers, except for the minus z boundary.\n",
    "boundary_spec = td.BoundarySpec(\n",
    "    x=td.Boundary.pml(),\n",
    "    y=td.Boundary.pml(),\n",
    "    z=td.Boundary(minus=td.PECBoundary(), plus=td.PML()),\n",
    ")\n",
    "# The base tidy3D Simulation ready to be used by the TerminalComponentModeler\n",
    "sim = td.Simulation(\n",
    "    center=(0, 0, Lz / 2 - h_sub),\n",
    "    size=(Lx, Ly, Lz),\n",
    "    grid_spec=td.GridSpec.auto(\n",
    "        min_steps_per_wvl=40.0,\n",
    "        wavelength=lda0,\n",
    "        dl_min=h_trace / 5,\n",
    "        override_structures=mesh_overrides,\n",
    "    ),\n",
    "    structures=[substrate] + coupled_lines,\n",
    "    sources=[],\n",
    "    monitors=[field_monitor],\n",
    "    run_time=10e-9,\n",
    "    boundary_spec=boundary_spec,\n",
    "    # We turn off subpixel in this example, since the structures are rectilinear and well-resolved by the grid.\n",
    "    subpixel=False,\n",
    "    # pec_conformal_mesh_spec=td.StaircasingConformalMeshSpec(),\n",
    ")"
   ]
  },
  {
   "cell_type": "markdown",
   "id": "4b1f685f",
   "metadata": {},
   "source": [
    "# Setting up the TerminalComponentModeler\n",
    "Lumped ports are now added at the left and right sides of the filter. The lumped ports are used in the `TerminalComponentModeler` to set up simulations for extracting the scattering parameters of the network. Each port represents an additional simulation that needs to be run in order to extract the full scattering matrix of the system."
   ]
  },
  {
   "cell_type": "code",
   "execution_count": 7,
   "id": "f8ed594a",
   "metadata": {},
   "outputs": [
    {
     "data": {
      "text/html": [
       "<pre style=\"white-space:pre;overflow-x:auto;line-height:normal;font-family:Menlo,'DejaVu Sans Mono',consolas,'Courier New',monospace\"><span style=\"color: #7fbfbf; text-decoration-color: #7fbfbf\">14:31:44 EDT </span><span style=\"color: #800000; text-decoration-color: #800000\">WARNING: Structure at structures</span><span style=\"color: #800000; text-decoration-color: #800000; font-weight: bold\">[</span><span style=\"color: #008080; text-decoration-color: #008080; font-weight: bold\">0</span><span style=\"color: #800000; text-decoration-color: #800000; font-weight: bold\">]</span><span style=\"color: #800000; text-decoration-color: #800000\"> was detected as being less than</span>\n",
       "<span style=\"color: #7fbfbf; text-decoration-color: #7fbfbf\">             </span><span style=\"color: #800000; text-decoration-color: #800000\">half of a central wavelength from a PML on side z-max. To avoid    </span>\n",
       "<span style=\"color: #7fbfbf; text-decoration-color: #7fbfbf\">             </span><span style=\"color: #800000; text-decoration-color: #800000\">inaccurate results or divergence, please increase gap between any  </span>\n",
       "<span style=\"color: #7fbfbf; text-decoration-color: #7fbfbf\">             </span><span style=\"color: #800000; text-decoration-color: #800000\">structures and PML or fully extend structure through the pml.      </span>\n",
       "</pre>\n"
      ],
      "text/plain": [
       "\u001b[2;36m14:31:44 EDT\u001b[0m\u001b[2;36m \u001b[0m\u001b[31mWARNING: Structure at structures\u001b[0m\u001b[1;31m[\u001b[0m\u001b[1;36m0\u001b[0m\u001b[1;31m]\u001b[0m\u001b[31m was detected as being less than\u001b[0m\n",
       "\u001b[2;36m             \u001b[0m\u001b[31mhalf of a central wavelength from a PML on side z-max. To avoid    \u001b[0m\n",
       "\u001b[2;36m             \u001b[0m\u001b[31minaccurate results or divergence, please increase gap between any  \u001b[0m\n",
       "\u001b[2;36m             \u001b[0m\u001b[31mstructures and PML or fully extend structure through the pml.      \u001b[0m\n"
      ]
     },
     "metadata": {},
     "output_type": "display_data"
    },
    {
     "data": {
      "text/html": [
       "<pre style=\"white-space:pre;overflow-x:auto;line-height:normal;font-family:Menlo,'DejaVu Sans Mono',consolas,'Courier New',monospace\"><span style=\"color: #7fbfbf; text-decoration-color: #7fbfbf\">             </span><span style=\"color: #800000; text-decoration-color: #800000\">WARNING: Suppressed </span><span style=\"color: #008080; text-decoration-color: #008080; font-weight: bold\">40</span><span style=\"color: #800000; text-decoration-color: #800000\"> WARNING messages.                           </span>\n",
       "</pre>\n"
      ],
      "text/plain": [
       "\u001b[2;36m            \u001b[0m\u001b[2;36m \u001b[0m\u001b[31mWARNING: Suppressed \u001b[0m\u001b[1;36m40\u001b[0m\u001b[31m WARNING messages.                           \u001b[0m\n"
      ]
     },
     "metadata": {},
     "output_type": "display_data"
    },
    {
     "data": {
      "text/html": [
       "<pre style=\"white-space:pre;overflow-x:auto;line-height:normal;font-family:Menlo,'DejaVu Sans Mono',consolas,'Courier New',monospace\"><span style=\"color: #7fbfbf; text-decoration-color: #7fbfbf\">             </span><span style=\"color: #800000; text-decoration-color: #800000\">WARNING: Structure at structures</span><span style=\"color: #800000; text-decoration-color: #800000; font-weight: bold\">[</span><span style=\"color: #008080; text-decoration-color: #008080; font-weight: bold\">0</span><span style=\"color: #800000; text-decoration-color: #800000; font-weight: bold\">]</span><span style=\"color: #800000; text-decoration-color: #800000\"> was detected as being less than</span>\n",
       "<span style=\"color: #7fbfbf; text-decoration-color: #7fbfbf\">             </span><span style=\"color: #800000; text-decoration-color: #800000\">half of a central wavelength from a PML on side z-max. To avoid    </span>\n",
       "<span style=\"color: #7fbfbf; text-decoration-color: #7fbfbf\">             </span><span style=\"color: #800000; text-decoration-color: #800000\">inaccurate results or divergence, please increase gap between any  </span>\n",
       "<span style=\"color: #7fbfbf; text-decoration-color: #7fbfbf\">             </span><span style=\"color: #800000; text-decoration-color: #800000\">structures and PML or fully extend structure through the pml.      </span>\n",
       "</pre>\n"
      ],
      "text/plain": [
       "\u001b[2;36m            \u001b[0m\u001b[2;36m \u001b[0m\u001b[31mWARNING: Structure at structures\u001b[0m\u001b[1;31m[\u001b[0m\u001b[1;36m0\u001b[0m\u001b[1;31m]\u001b[0m\u001b[31m was detected as being less than\u001b[0m\n",
       "\u001b[2;36m             \u001b[0m\u001b[31mhalf of a central wavelength from a PML on side z-max. To avoid    \u001b[0m\n",
       "\u001b[2;36m             \u001b[0m\u001b[31minaccurate results or divergence, please increase gap between any  \u001b[0m\n",
       "\u001b[2;36m             \u001b[0m\u001b[31mstructures and PML or fully extend structure through the pml.      \u001b[0m\n"
      ]
     },
     "metadata": {},
     "output_type": "display_data"
    },
    {
     "data": {
      "text/html": [
       "<pre style=\"white-space:pre;overflow-x:auto;line-height:normal;font-family:Menlo,'DejaVu Sans Mono',consolas,'Courier New',monospace\"><span style=\"color: #7fbfbf; text-decoration-color: #7fbfbf\">             </span><span style=\"color: #800000; text-decoration-color: #800000\">WARNING: Suppressed </span><span style=\"color: #008080; text-decoration-color: #008080; font-weight: bold\">40</span><span style=\"color: #800000; text-decoration-color: #800000\"> WARNING messages.                           </span>\n",
       "</pre>\n"
      ],
      "text/plain": [
       "\u001b[2;36m            \u001b[0m\u001b[2;36m \u001b[0m\u001b[31mWARNING: Suppressed \u001b[0m\u001b[1;36m40\u001b[0m\u001b[31m WARNING messages.                           \u001b[0m\n"
      ]
     },
     "metadata": {},
     "output_type": "display_data"
    },
    {
     "data": {
      "text/plain": [
       "Text(0.5, 1.0, 'Side view of port 2')"
      ]
     },
     "execution_count": 7,
     "metadata": {},
     "output_type": "execute_result"
    },
    {
     "data": {
      "image/png": "[encoded data removed]",
      "text/plain": [
       "<Figure size 1500x500 with 2 Axes>"
      ]
     },
     "metadata": {},
     "output_type": "display_data"
    }
   ],
   "source": [
    "# Compute port xy locations\n",
    "port_left = (xstarts[0], ystarts[0] - widths[0] / 2)\n",
    "port_right = (xstarts[-1] + lengths[-1], ystarts[-1] - gaps[-1] - 1.5 * widths[-1])\n",
    "# Number of cells to refine ports with\n",
    "td_port_cells = 2\n",
    "reference_impedance = 50\n",
    "port_1_td = smatrix.LumpedPort(\n",
    "    center=(port_left[0], port_left[1], -h_sub / 2),\n",
    "    size=(0, widths[0], h_sub),\n",
    "    voltage_axis=2,\n",
    "    name=\"lumped_port_1\",\n",
    "    num_grid_cells=td_port_cells,\n",
    "    impedance=reference_impedance,\n",
    ")\n",
    "\n",
    "port_2_td = smatrix.LumpedPort(\n",
    "    center=(port_right[0], port_right[1], -h_sub / 2),\n",
    "    size=(0, widths[-1], h_sub),\n",
    "    voltage_axis=2,\n",
    "    name=\"lumped_port_2\",\n",
    "    num_grid_cells=td_port_cells,\n",
    "    impedance=reference_impedance,\n",
    ")\n",
    "\n",
    "modeler = smatrix.TerminalComponentModeler(\n",
    "    simulation=sim,\n",
    "    ports=[port_1_td, port_2_td],\n",
    "    freqs=freqs,\n",
    "    remove_dc_component=True,\n",
    "    verbose=True,\n",
    "    path_dir=\"data\",\n",
    ")\n",
    "\n",
    "# Before running the simulations, we can view the mesh to get an idea of how the mesh overrides have performed.\n",
    "# The simulation objects created within the terminal component modeler will take port mesh refinement into account.\n",
    "sim_port1 = list(modeler.sim_dict.values())[0]\n",
    "\n",
    "f, (ax1, ax2) = plt.subplots(1, 2, tight_layout=True, figsize=(15, 5))\n",
    "hlim = [-Lx / 2, Lx / 2]\n",
    "vlim = [-Ly / 2, Ly / 2]\n",
    "ax = sim_port1.plot(z=h_trace / 2, ax=ax1)\n",
    "sim_port1.plot_grid(z=h_trace / 2, ax=ax1, hlim=hlim, vlim=vlim)\n",
    "# Update plot labels\n",
    "ax.xaxis.set_major_formatter(formatter)\n",
    "ax.yaxis.set_major_formatter(formatter)\n",
    "ax.set_xlabel(xlbl)\n",
    "ax.set_ylabel(ylbl)\n",
    "ax.set_title(\"Top view of coupler\")\n",
    "\n",
    "hlim = [port_2_td.bounds[0][0] - 1 * mm, port_2_td.bounds[1][0] + 1 * mm]\n",
    "vlim = [sim.bounds[0][2] - 100, h_trace + 500]\n",
    "ax = sim_port1.plot(y=port_2_td.center[1], ax=ax2)\n",
    "sim_port1.plot_grid(y=h_trace / 2, ax=ax, hlim=hlim, vlim=vlim)\n",
    "# Update plot labels\n",
    "ax.xaxis.set_major_formatter(formatter)\n",
    "ax.yaxis.set_major_formatter(formatter)\n",
    "ax.set_xlabel(xlbl)\n",
    "ax.set_ylabel(\"z (mm)\")\n",
    "ax.set_title(\"Side view of port 2\")"
   ]
  },
  {
   "cell_type": "code",
   "execution_count": 8,
   "id": "d9476e25",
   "metadata": {},
   "outputs": [
    {
     "data": {
      "text/html": [
       "<pre style=\"white-space:pre;overflow-x:auto;line-height:normal;font-family:Menlo,'DejaVu Sans Mono',consolas,'Courier New',monospace\"><span style=\"color: #7fbfbf; text-decoration-color: #7fbfbf\">14:31:45 EDT </span>Created task <span style=\"color: #008000; text-decoration-color: #008000\">'smatrix_lumped_port_1'</span> with task_id                  \n",
       "<span style=\"color: #7fbfbf; text-decoration-color: #7fbfbf\">             </span><span style=\"color: #008000; text-decoration-color: #008000\">'fdve-2dcb13ab-24f7-49af-800e-c4253c641c56'</span> and task_type <span style=\"color: #008000; text-decoration-color: #008000\">'FDTD'</span>.  \n",
       "</pre>\n"
      ],
      "text/plain": [
       "\u001b[2;36m14:31:45 EDT\u001b[0m\u001b[2;36m \u001b[0mCreated task \u001b[32m'smatrix_lumped_port_1'\u001b[0m with task_id                  \n",
       "\u001b[2;36m             \u001b[0m\u001b[32m'fdve-2dcb13ab-24f7-49af-800e-c4253c641c56'\u001b[0m and task_type \u001b[32m'FDTD'\u001b[0m.  \n"
      ]
     },
     "metadata": {},
     "output_type": "display_data"
    },
    {
     "data": {
      "text/html": [
       "<pre style=\"white-space:pre;overflow-x:auto;line-height:normal;font-family:Menlo,'DejaVu Sans Mono',consolas,'Courier New',monospace\"><span style=\"color: #7fbfbf; text-decoration-color: #7fbfbf\">             </span>View task using web UI at                                          \n",
       "<span style=\"color: #7fbfbf; text-decoration-color: #7fbfbf\">             </span><a href=\"https://tidy3d.simulation.cloud/workbench?taskId=fdve-2dcb13ab-24f7-49af-800e-c4253c641c56\" target=\"_blank\"><span style=\"color: #008000; text-decoration-color: #008000\">'https://tidy3d.simulation.cloud/workbench?taskId=fdve-2dcb13ab-24f</span></a>\n",
       "<span style=\"color: #7fbfbf; text-decoration-color: #7fbfbf\">             </span><a href=\"https://tidy3d.simulation.cloud/workbench?taskId=fdve-2dcb13ab-24f7-49af-800e-c4253c641c56\" target=\"_blank\"><span style=\"color: #008000; text-decoration-color: #008000\">7-49af-800e-c4253c641c56'</span></a>.                                         \n",
       "</pre>\n"
      ],
      "text/plain": [
       "\u001b[2;36m            \u001b[0m\u001b[2;36m \u001b[0mView task using web UI at                                          \n",
       "\u001b[2;36m             \u001b[0m\u001b]8;id=266682;https://tidy3d.simulation.cloud/workbench?taskId=fdve-2dcb13ab-24f7-49af-800e-c4253c641c56\u001b\\\u001b[32m'https://tidy3d.simulation.cloud/workbench?\u001b[0m\u001b]8;;\u001b\\\u001b]8;id=930383;https://tidy3d.simulation.cloud/workbench?taskId=fdve-2dcb13ab-24f7-49af-800e-c4253c641c56\u001b\\\u001b[32mtaskId\u001b[0m\u001b]8;;\u001b\\\u001b]8;id=266682;https://tidy3d.simulation.cloud/workbench?taskId=fdve-2dcb13ab-24f7-49af-800e-c4253c641c56\u001b\\\u001b[32m=\u001b[0m\u001b]8;;\u001b\\\u001b]8;id=253808;https://tidy3d.simulation.cloud/workbench?taskId=fdve-2dcb13ab-24f7-49af-800e-c4253c641c56\u001b\\\u001b[32mfdve\u001b[0m\u001b]8;;\u001b\\\u001b]8;id=266682;https://tidy3d.simulation.cloud/workbench?taskId=fdve-2dcb13ab-24f7-49af-800e-c4253c641c56\u001b\\\u001b[32m-2dcb13ab-24f\u001b[0m\u001b]8;;\u001b\\\n",
       "\u001b[2;36m             \u001b[0m\u001b]8;id=266682;https://tidy3d.simulation.cloud/workbench?taskId=fdve-2dcb13ab-24f7-49af-800e-c4253c641c56\u001b\\\u001b[32m7-49af-800e-c4253c641c56'\u001b[0m\u001b]8;;\u001b\\.                                         \n"
      ]
     },
     "metadata": {},
     "output_type": "display_data"
    },
    {
     "data": {
      "application/vnd.jupyter.widget-view+json": {
       "model_id": "d00c1cb41f0a476ea1987c8eac291c1f",
       "version_major": 2,
       "version_minor": 0
      },
      "text/plain": [
       "Output()"
      ]
     },
     "metadata": {},
     "output_type": "display_data"
    },
    {
     "data": {
      "text/html": [
       "<pre style=\"white-space:pre;overflow-x:auto;line-height:normal;font-family:Menlo,'DejaVu Sans Mono',consolas,'Courier New',monospace\"></pre>\n"
      ],
      "text/plain": []
     },
     "metadata": {},
     "output_type": "display_data"
    },
    {
     "data": {
      "text/html": [
       "<pre style=\"white-space:pre;overflow-x:auto;line-height:normal;font-family:Menlo,'DejaVu Sans Mono',consolas,'Courier New',monospace\">\n",
       "</pre>\n"
      ],
      "text/plain": [
       "\n"
      ]
     },
     "metadata": {},
     "output_type": "display_data"
    },
    {
     "data": {
      "text/html": [
       "<pre style=\"white-space:pre;overflow-x:auto;line-height:normal;font-family:Menlo,'DejaVu Sans Mono',consolas,'Courier New',monospace\"><span style=\"color: #7fbfbf; text-decoration-color: #7fbfbf\">14:31:46 EDT </span>Created task <span style=\"color: #008000; text-decoration-color: #008000\">'smatrix_lumped_port_2'</span> with task_id                  \n",
       "<span style=\"color: #7fbfbf; text-decoration-color: #7fbfbf\">             </span><span style=\"color: #008000; text-decoration-color: #008000\">'fdve-a05d6e5a-e75a-4260-8b52-c08d682b1238'</span> and task_type <span style=\"color: #008000; text-decoration-color: #008000\">'FDTD'</span>.  \n",
       "</pre>\n"
      ],
      "text/plain": [
       "\u001b[2;36m14:31:46 EDT\u001b[0m\u001b[2;36m \u001b[0mCreated task \u001b[32m'smatrix_lumped_port_2'\u001b[0m with task_id                  \n",
       "\u001b[2;36m             \u001b[0m\u001b[32m'fdve-a05d6e5a-e75a-4260-8b52-c08d682b1238'\u001b[0m and task_type \u001b[32m'FDTD'\u001b[0m.  \n"
      ]
     },
     "metadata": {},
     "output_type": "display_data"
    },
    {
     "data": {
      "text/html": [
       "<pre style=\"white-space:pre;overflow-x:auto;line-height:normal;font-family:Menlo,'DejaVu Sans Mono',consolas,'Courier New',monospace\"><span style=\"color: #7fbfbf; text-decoration-color: #7fbfbf\">             </span>View task using web UI at                                          \n",
       "<span style=\"color: #7fbfbf; text-decoration-color: #7fbfbf\">             </span><a href=\"https://tidy3d.simulation.cloud/workbench?taskId=fdve-a05d6e5a-e75a-4260-8b52-c08d682b1238\" target=\"_blank\"><span style=\"color: #008000; text-decoration-color: #008000\">'https://tidy3d.simulation.cloud/workbench?taskId=fdve-a05d6e5a-e75</span></a>\n",
       "<span style=\"color: #7fbfbf; text-decoration-color: #7fbfbf\">             </span><a href=\"https://tidy3d.simulation.cloud/workbench?taskId=fdve-a05d6e5a-e75a-4260-8b52-c08d682b1238\" target=\"_blank\"><span style=\"color: #008000; text-decoration-color: #008000\">a-4260-8b52-c08d682b1238'</span></a>.                                         \n",
       "</pre>\n"
      ],
      "text/plain": [
       "\u001b[2;36m            \u001b[0m\u001b[2;36m \u001b[0mView task using web UI at                                          \n",
       "\u001b[2;36m             \u001b[0m\u001b]8;id=894410;https://tidy3d.simulation.cloud/workbench?taskId=fdve-a05d6e5a-e75a-4260-8b52-c08d682b1238\u001b\\\u001b[32m'https://tidy3d.simulation.cloud/workbench?\u001b[0m\u001b]8;;\u001b\\\u001b]8;id=396046;https://tidy3d.simulation.cloud/workbench?taskId=fdve-a05d6e5a-e75a-4260-8b52-c08d682b1238\u001b\\\u001b[32mtaskId\u001b[0m\u001b]8;;\u001b\\\u001b]8;id=894410;https://tidy3d.simulation.cloud/workbench?taskId=fdve-a05d6e5a-e75a-4260-8b52-c08d682b1238\u001b\\\u001b[32m=\u001b[0m\u001b]8;;\u001b\\\u001b]8;id=706549;https://tidy3d.simulation.cloud/workbench?taskId=fdve-a05d6e5a-e75a-4260-8b52-c08d682b1238\u001b\\\u001b[32mfdve\u001b[0m\u001b]8;;\u001b\\\u001b]8;id=894410;https://tidy3d.simulation.cloud/workbench?taskId=fdve-a05d6e5a-e75a-4260-8b52-c08d682b1238\u001b\\\u001b[32m-a05d6e5a-e75\u001b[0m\u001b]8;;\u001b\\\n",
       "\u001b[2;36m             \u001b[0m\u001b]8;id=894410;https://tidy3d.simulation.cloud/workbench?taskId=fdve-a05d6e5a-e75a-4260-8b52-c08d682b1238\u001b\\\u001b[32ma-4260-8b52-c08d682b1238'\u001b[0m\u001b]8;;\u001b\\.                                         \n"
      ]
     },
     "metadata": {},
     "output_type": "display_data"
    },
    {
     "data": {
      "application/vnd.jupyter.widget-view+json": {
       "model_id": "008d77577b1a419790ada09deca4b826",
       "version_major": 2,
       "version_minor": 0
      },
      "text/plain": [
       "Output()"
      ]
     },
     "metadata": {},
     "output_type": "display_data"
    },
    {
     "data": {
      "text/html": [
       "<pre style=\"white-space:pre;overflow-x:auto;line-height:normal;font-family:Menlo,'DejaVu Sans Mono',consolas,'Courier New',monospace\"></pre>\n"
      ],
      "text/plain": []
     },
     "metadata": {},
     "output_type": "display_data"
    },
    {
     "data": {
      "text/html": [
       "<pre style=\"white-space:pre;overflow-x:auto;line-height:normal;font-family:Menlo,'DejaVu Sans Mono',consolas,'Courier New',monospace\">\n",
       "</pre>\n"
      ],
      "text/plain": [
       "\n"
      ]
     },
     "metadata": {},
     "output_type": "display_data"
    },
    {
     "data": {
      "text/html": [
       "<pre style=\"white-space:pre;overflow-x:auto;line-height:normal;font-family:Menlo,'DejaVu Sans Mono',consolas,'Courier New',monospace\"><span style=\"color: #7fbfbf; text-decoration-color: #7fbfbf\">14:31:53 EDT </span>Started working on Batch.                                          \n",
       "</pre>\n"
      ],
      "text/plain": [
       "\u001b[2;36m14:31:53 EDT\u001b[0m\u001b[2;36m \u001b[0mStarted working on Batch.                                          \n"
      ]
     },
     "metadata": {},
     "output_type": "display_data"
    },
    {
     "data": {
      "text/html": [
       "<pre style=\"white-space:pre;overflow-x:auto;line-height:normal;font-family:Menlo,'DejaVu Sans Mono',consolas,'Courier New',monospace\"><span style=\"color: #7fbfbf; text-decoration-color: #7fbfbf\">14:31:54 EDT </span>Maximum FlexCredit cost: <span style=\"color: #008080; text-decoration-color: #008080; font-weight: bold\">0.206</span> for the whole batch.                \n",
       "</pre>\n"
      ],
      "text/plain": [
       "\u001b[2;36m14:31:54 EDT\u001b[0m\u001b[2;36m \u001b[0mMaximum FlexCredit cost: \u001b[1;36m0.206\u001b[0m for the whole batch.                \n"
      ]
     },
     "metadata": {},
     "output_type": "display_data"
    },
    {
     "data": {
      "text/html": [
       "<pre style=\"white-space:pre;overflow-x:auto;line-height:normal;font-family:Menlo,'DejaVu Sans Mono',consolas,'Courier New',monospace\"><span style=\"color: #7fbfbf; text-decoration-color: #7fbfbf\">             </span>Use <span style=\"color: #008000; text-decoration-color: #008000\">'Batch.real_cost()'</span> to get the billed FlexCredit cost after the\n",
       "<span style=\"color: #7fbfbf; text-decoration-color: #7fbfbf\">             </span>Batch has completed.                                               \n",
       "</pre>\n"
      ],
      "text/plain": [
       "\u001b[2;36m            \u001b[0m\u001b[2;36m \u001b[0mUse \u001b[32m'Batch.real_cost\u001b[0m\u001b[32m(\u001b[0m\u001b[32m)\u001b[0m\u001b[32m'\u001b[0m to get the billed FlexCredit cost after the\n",
       "\u001b[2;36m             \u001b[0mBatch has completed.                                               \n"
      ]
     },
     "metadata": {},
     "output_type": "display_data"
    },
    {
     "data": {
      "application/vnd.jupyter.widget-view+json": {
       "model_id": "883c5a8269774f3cb9ca20a2fe160f1e",
       "version_major": 2,
       "version_minor": 0
      },
      "text/plain": [
       "Output()"
      ]
     },
     "metadata": {},
     "output_type": "display_data"
    },
    {
     "data": {
      "text/html": [
       "<pre style=\"white-space:pre;overflow-x:auto;line-height:normal;font-family:Menlo,'DejaVu Sans Mono',consolas,'Courier New',monospace\"><span style=\"color: #7fbfbf; text-decoration-color: #7fbfbf\">14:32:53 EDT </span>Batch complete.                                                    \n",
       "</pre>\n"
      ],
      "text/plain": [
       "\u001b[2;36m14:32:53 EDT\u001b[0m\u001b[2;36m \u001b[0mBatch complete.                                                    \n"
      ]
     },
     "metadata": {},
     "output_type": "display_data"
    },
    {
     "data": {
      "text/html": [
       "<pre style=\"white-space:pre;overflow-x:auto;line-height:normal;font-family:Menlo,'DejaVu Sans Mono',consolas,'Courier New',monospace\"></pre>\n"
      ],
      "text/plain": []
     },
     "metadata": {},
     "output_type": "display_data"
    },
    {
     "data": {
      "text/html": [
       "<pre style=\"white-space:pre;overflow-x:auto;line-height:normal;font-family:Menlo,'DejaVu Sans Mono',consolas,'Courier New',monospace\">\n",
       "</pre>\n"
      ],
      "text/plain": [
       "\n"
      ]
     },
     "metadata": {},
     "output_type": "display_data"
    },
    {
     "data": {
      "application/vnd.jupyter.widget-view+json": {
       "model_id": "2b06f36e982446c59005e5c17bee2455",
       "version_major": 2,
       "version_minor": 0
      },
      "text/plain": [
       "Output()"
      ]
     },
     "metadata": {},
     "output_type": "display_data"
    },
    {
     "data": {
      "text/html": [
       "<pre style=\"white-space:pre;overflow-x:auto;line-height:normal;font-family:Menlo,'DejaVu Sans Mono',consolas,'Courier New',monospace\"></pre>\n"
      ],
      "text/plain": []
     },
     "metadata": {},
     "output_type": "display_data"
    },
    {
     "data": {
      "text/html": [
       "<pre style=\"white-space:pre;overflow-x:auto;line-height:normal;font-family:Menlo,'DejaVu Sans Mono',consolas,'Courier New',monospace\">\n",
       "</pre>\n"
      ],
      "text/plain": [
       "\n"
      ]
     },
     "metadata": {},
     "output_type": "display_data"
    },
    {
     "data": {
      "text/html": [
       "<pre style=\"white-space:pre;overflow-x:auto;line-height:normal;font-family:Menlo,'DejaVu Sans Mono',consolas,'Courier New',monospace\"><span style=\"color: #7fbfbf; text-decoration-color: #7fbfbf\">14:32:55 EDT </span>loading simulation from                                            \n",
       "<span style=\"color: #7fbfbf; text-decoration-color: #7fbfbf\">             </span>data/fdve-<span style=\"color: #ffff00; text-decoration-color: #ffff00\">2dcb13ab-24f7-49af-800e-c4253c641c56</span>.hdf5                \n",
       "</pre>\n"
      ],
      "text/plain": [
       "\u001b[2;36m14:32:55 EDT\u001b[0m\u001b[2;36m \u001b[0mloading simulation from                                            \n",
       "\u001b[2;36m             \u001b[0mdata/fdve-\u001b[93m2dcb13ab-24f7-49af-800e-c4253c641c56\u001b[0m.hdf5                \n"
      ]
     },
     "metadata": {},
     "output_type": "display_data"
    },
    {
     "data": {
      "text/html": [
       "<pre style=\"white-space:pre;overflow-x:auto;line-height:normal;font-family:Menlo,'DejaVu Sans Mono',consolas,'Courier New',monospace\"><span style=\"color: #7fbfbf; text-decoration-color: #7fbfbf\">             </span><span style=\"color: #800000; text-decoration-color: #800000\">WARNING: Structure at structures</span><span style=\"color: #800000; text-decoration-color: #800000; font-weight: bold\">[</span><span style=\"color: #008080; text-decoration-color: #008080; font-weight: bold\">0</span><span style=\"color: #800000; text-decoration-color: #800000; font-weight: bold\">]</span><span style=\"color: #800000; text-decoration-color: #800000\"> was detected as being less than</span>\n",
       "<span style=\"color: #7fbfbf; text-decoration-color: #7fbfbf\">             </span><span style=\"color: #800000; text-decoration-color: #800000\">half of a central wavelength from a PML on side z-max. To avoid    </span>\n",
       "<span style=\"color: #7fbfbf; text-decoration-color: #7fbfbf\">             </span><span style=\"color: #800000; text-decoration-color: #800000\">inaccurate results or divergence, please increase gap between any  </span>\n",
       "<span style=\"color: #7fbfbf; text-decoration-color: #7fbfbf\">             </span><span style=\"color: #800000; text-decoration-color: #800000\">structures and PML or fully extend structure through the pml.      </span>\n",
       "</pre>\n"
      ],
      "text/plain": [
       "\u001b[2;36m            \u001b[0m\u001b[2;36m \u001b[0m\u001b[31mWARNING: Structure at structures\u001b[0m\u001b[1;31m[\u001b[0m\u001b[1;36m0\u001b[0m\u001b[1;31m]\u001b[0m\u001b[31m was detected as being less than\u001b[0m\n",
       "\u001b[2;36m             \u001b[0m\u001b[31mhalf of a central wavelength from a PML on side z-max. To avoid    \u001b[0m\n",
       "\u001b[2;36m             \u001b[0m\u001b[31minaccurate results or divergence, please increase gap between any  \u001b[0m\n",
       "\u001b[2;36m             \u001b[0m\u001b[31mstructures and PML or fully extend structure through the pml.      \u001b[0m\n"
      ]
     },
     "metadata": {},
     "output_type": "display_data"
    },
    {
     "data": {
      "text/html": [
       "<pre style=\"white-space:pre;overflow-x:auto;line-height:normal;font-family:Menlo,'DejaVu Sans Mono',consolas,'Courier New',monospace\"><span style=\"color: #7fbfbf; text-decoration-color: #7fbfbf\">             </span><span style=\"color: #800000; text-decoration-color: #800000\">WARNING: Suppressed </span><span style=\"color: #008080; text-decoration-color: #008080; font-weight: bold\">40</span><span style=\"color: #800000; text-decoration-color: #800000\"> WARNING messages.                           </span>\n",
       "</pre>\n"
      ],
      "text/plain": [
       "\u001b[2;36m            \u001b[0m\u001b[2;36m \u001b[0m\u001b[31mWARNING: Suppressed \u001b[0m\u001b[1;36m40\u001b[0m\u001b[31m WARNING messages.                           \u001b[0m\n"
      ]
     },
     "metadata": {},
     "output_type": "display_data"
    },
    {
     "data": {
      "text/html": [
       "<pre style=\"white-space:pre;overflow-x:auto;line-height:normal;font-family:Menlo,'DejaVu Sans Mono',consolas,'Courier New',monospace\"><span style=\"color: #7fbfbf; text-decoration-color: #7fbfbf\">             </span><span style=\"color: #800000; text-decoration-color: #800000\">WARNING: Warning messages were found in the solver log. For more   </span>\n",
       "<span style=\"color: #7fbfbf; text-decoration-color: #7fbfbf\">             </span><span style=\"color: #800000; text-decoration-color: #800000\">information, check </span><span style=\"color: #008000; text-decoration-color: #008000\">'SimulationData.log'</span><span style=\"color: #800000; text-decoration-color: #800000\"> or use                     </span>\n",
       "<span style=\"color: #7fbfbf; text-decoration-color: #7fbfbf\">             </span><span style=\"color: #008000; text-decoration-color: #008000\">'web.download_log(task_id)'</span><span style=\"color: #800000; text-decoration-color: #800000\">.                                       </span>\n",
       "</pre>\n"
      ],
      "text/plain": [
       "\u001b[2;36m            \u001b[0m\u001b[2;36m \u001b[0m\u001b[31mWARNING: Warning messages were found in the solver log. For more   \u001b[0m\n",
       "\u001b[2;36m             \u001b[0m\u001b[31minformation, check \u001b[0m\u001b[32m'SimulationData.log'\u001b[0m\u001b[31m or use                     \u001b[0m\n",
       "\u001b[2;36m             \u001b[0m\u001b[32m'web.download_log\u001b[0m\u001b[32m(\u001b[0m\u001b[32mtask_id\u001b[0m\u001b[32m)\u001b[0m\u001b[32m'\u001b[0m\u001b[31m.                                       \u001b[0m\n"
      ]
     },
     "metadata": {},
     "output_type": "display_data"
    },
    {
     "data": {
      "application/vnd.jupyter.widget-view+json": {
       "model_id": "bbbfb601101e40258019359deb294af6",
       "version_major": 2,
       "version_minor": 0
      },
      "text/plain": [
       "Output()"
      ]
     },
     "metadata": {},
     "output_type": "display_data"
    },
    {
     "data": {
      "text/html": [
       "<pre style=\"white-space:pre;overflow-x:auto;line-height:normal;font-family:Menlo,'DejaVu Sans Mono',consolas,'Courier New',monospace\"></pre>\n"
      ],
      "text/plain": []
     },
     "metadata": {},
     "output_type": "display_data"
    },
    {
     "data": {
      "text/html": [
       "<pre style=\"white-space:pre;overflow-x:auto;line-height:normal;font-family:Menlo,'DejaVu Sans Mono',consolas,'Courier New',monospace\">\n",
       "</pre>\n"
      ],
      "text/plain": [
       "\n"
      ]
     },
     "metadata": {},
     "output_type": "display_data"
    },
    {
     "data": {
      "text/html": [
       "<pre style=\"white-space:pre;overflow-x:auto;line-height:normal;font-family:Menlo,'DejaVu Sans Mono',consolas,'Courier New',monospace\"><span style=\"color: #7fbfbf; text-decoration-color: #7fbfbf\">14:32:56 EDT </span>loading simulation from                                            \n",
       "<span style=\"color: #7fbfbf; text-decoration-color: #7fbfbf\">             </span>data/fdve-<span style=\"color: #ffff00; text-decoration-color: #ffff00\">a05d6e5a-e75a-4260-8b52-c08d682b1238</span>.hdf5                \n",
       "</pre>\n"
      ],
      "text/plain": [
       "\u001b[2;36m14:32:56 EDT\u001b[0m\u001b[2;36m \u001b[0mloading simulation from                                            \n",
       "\u001b[2;36m             \u001b[0mdata/fdve-\u001b[93ma05d6e5a-e75a-4260-8b52-c08d682b1238\u001b[0m.hdf5                \n"
      ]
     },
     "metadata": {},
     "output_type": "display_data"
    },
    {
     "data": {
      "text/html": [
       "<pre style=\"white-space:pre;overflow-x:auto;line-height:normal;font-family:Menlo,'DejaVu Sans Mono',consolas,'Courier New',monospace\"><span style=\"color: #7fbfbf; text-decoration-color: #7fbfbf\">             </span><span style=\"color: #800000; text-decoration-color: #800000\">WARNING: Structure at structures</span><span style=\"color: #800000; text-decoration-color: #800000; font-weight: bold\">[</span><span style=\"color: #008080; text-decoration-color: #008080; font-weight: bold\">0</span><span style=\"color: #800000; text-decoration-color: #800000; font-weight: bold\">]</span><span style=\"color: #800000; text-decoration-color: #800000\"> was detected as being less than</span>\n",
       "<span style=\"color: #7fbfbf; text-decoration-color: #7fbfbf\">             </span><span style=\"color: #800000; text-decoration-color: #800000\">half of a central wavelength from a PML on side z-max. To avoid    </span>\n",
       "<span style=\"color: #7fbfbf; text-decoration-color: #7fbfbf\">             </span><span style=\"color: #800000; text-decoration-color: #800000\">inaccurate results or divergence, please increase gap between any  </span>\n",
       "<span style=\"color: #7fbfbf; text-decoration-color: #7fbfbf\">             </span><span style=\"color: #800000; text-decoration-color: #800000\">structures and PML or fully extend structure through the pml.      </span>\n",
       "</pre>\n"
      ],
      "text/plain": [
       "\u001b[2;36m            \u001b[0m\u001b[2;36m \u001b[0m\u001b[31mWARNING: Structure at structures\u001b[0m\u001b[1;31m[\u001b[0m\u001b[1;36m0\u001b[0m\u001b[1;31m]\u001b[0m\u001b[31m was detected as being less than\u001b[0m\n",
       "\u001b[2;36m             \u001b[0m\u001b[31mhalf of a central wavelength from a PML on side z-max. To avoid    \u001b[0m\n",
       "\u001b[2;36m             \u001b[0m\u001b[31minaccurate results or divergence, please increase gap between any  \u001b[0m\n",
       "\u001b[2;36m             \u001b[0m\u001b[31mstructures and PML or fully extend structure through the pml.      \u001b[0m\n"
      ]
     },
     "metadata": {},
     "output_type": "display_data"
    },
    {
     "data": {
      "text/html": [
       "<pre style=\"white-space:pre;overflow-x:auto;line-height:normal;font-family:Menlo,'DejaVu Sans Mono',consolas,'Courier New',monospace\"><span style=\"color: #7fbfbf; text-decoration-color: #7fbfbf\">14:32:57 EDT </span><span style=\"color: #800000; text-decoration-color: #800000\">WARNING: Suppressed </span><span style=\"color: #008080; text-decoration-color: #008080; font-weight: bold\">40</span><span style=\"color: #800000; text-decoration-color: #800000\"> WARNING messages.                           </span>\n",
       "</pre>\n"
      ],
      "text/plain": [
       "\u001b[2;36m14:32:57 EDT\u001b[0m\u001b[2;36m \u001b[0m\u001b[31mWARNING: Suppressed \u001b[0m\u001b[1;36m40\u001b[0m\u001b[31m WARNING messages.                           \u001b[0m\n"
      ]
     },
     "metadata": {},
     "output_type": "display_data"
    },
    {
     "data": {
      "text/html": [
       "<pre style=\"white-space:pre;overflow-x:auto;line-height:normal;font-family:Menlo,'DejaVu Sans Mono',consolas,'Courier New',monospace\"><span style=\"color: #7fbfbf; text-decoration-color: #7fbfbf\">             </span><span style=\"color: #800000; text-decoration-color: #800000\">WARNING: Warning messages were found in the solver log. For more   </span>\n",
       "<span style=\"color: #7fbfbf; text-decoration-color: #7fbfbf\">             </span><span style=\"color: #800000; text-decoration-color: #800000\">information, check </span><span style=\"color: #008000; text-decoration-color: #008000\">'SimulationData.log'</span><span style=\"color: #800000; text-decoration-color: #800000\"> or use                     </span>\n",
       "<span style=\"color: #7fbfbf; text-decoration-color: #7fbfbf\">             </span><span style=\"color: #008000; text-decoration-color: #008000\">'web.download_log(task_id)'</span><span style=\"color: #800000; text-decoration-color: #800000\">.                                       </span>\n",
       "</pre>\n"
      ],
      "text/plain": [
       "\u001b[2;36m            \u001b[0m\u001b[2;36m \u001b[0m\u001b[31mWARNING: Warning messages were found in the solver log. For more   \u001b[0m\n",
       "\u001b[2;36m             \u001b[0m\u001b[31minformation, check \u001b[0m\u001b[32m'SimulationData.log'\u001b[0m\u001b[31m or use                     \u001b[0m\n",
       "\u001b[2;36m             \u001b[0m\u001b[32m'web.download_log\u001b[0m\u001b[32m(\u001b[0m\u001b[32mtask_id\u001b[0m\u001b[32m)\u001b[0m\u001b[32m'\u001b[0m\u001b[31m.                                       \u001b[0m\n"
      ]
     },
     "metadata": {},
     "output_type": "display_data"
    }
   ],
   "source": [
    "# Run the jobs and save the scattering parameters\n",
    "s_matrix = modeler.run()"
   ]
  },
  {
   "cell_type": "markdown",
   "id": "2d46f596",
   "metadata": {},
   "source": [
    "# Plotting Fields\n",
    "\n",
    "The frequency-domain fields have been recorded over the extent of the coupled line filter between the ground plane and microstrips. Although not needed for extracting scattering parameters, the plots below demonstrate the effect of the filter on frequencies within and frequencies outside the passband. In these plots, the excited port is located in the upper left of the figure, and the transmission port is located at the bottom right."
   ]
  },
  {
   "cell_type": "code",
   "execution_count": 9,
   "id": "3a41d1e7",
   "metadata": {},
   "outputs": [
    {
     "data": {
      "text/html": [
       "<pre style=\"white-space:pre;overflow-x:auto;line-height:normal;font-family:Menlo,'DejaVu Sans Mono',consolas,'Courier New',monospace\"><span style=\"color: #7fbfbf; text-decoration-color: #7fbfbf\">             </span>loading simulation from                                            \n",
       "<span style=\"color: #7fbfbf; text-decoration-color: #7fbfbf\">             </span>data/fdve-<span style=\"color: #ffff00; text-decoration-color: #ffff00\">2dcb13ab-24f7-49af-800e-c4253c641c56</span>.hdf5                \n",
       "</pre>\n"
      ],
      "text/plain": [
       "\u001b[2;36m            \u001b[0m\u001b[2;36m \u001b[0mloading simulation from                                            \n",
       "\u001b[2;36m             \u001b[0mdata/fdve-\u001b[93m2dcb13ab-24f7-49af-800e-c4253c641c56\u001b[0m.hdf5                \n"
      ]
     },
     "metadata": {},
     "output_type": "display_data"
    },
    {
     "data": {
      "text/html": [
       "<pre style=\"white-space:pre;overflow-x:auto;line-height:normal;font-family:Menlo,'DejaVu Sans Mono',consolas,'Courier New',monospace\"><span style=\"color: #7fbfbf; text-decoration-color: #7fbfbf\">             </span><span style=\"color: #800000; text-decoration-color: #800000\">WARNING: Structure at structures</span><span style=\"color: #800000; text-decoration-color: #800000; font-weight: bold\">[</span><span style=\"color: #008080; text-decoration-color: #008080; font-weight: bold\">0</span><span style=\"color: #800000; text-decoration-color: #800000; font-weight: bold\">]</span><span style=\"color: #800000; text-decoration-color: #800000\"> was detected as being less than</span>\n",
       "<span style=\"color: #7fbfbf; text-decoration-color: #7fbfbf\">             </span><span style=\"color: #800000; text-decoration-color: #800000\">half of a central wavelength from a PML on side z-max. To avoid    </span>\n",
       "<span style=\"color: #7fbfbf; text-decoration-color: #7fbfbf\">             </span><span style=\"color: #800000; text-decoration-color: #800000\">inaccurate results or divergence, please increase gap between any  </span>\n",
       "<span style=\"color: #7fbfbf; text-decoration-color: #7fbfbf\">             </span><span style=\"color: #800000; text-decoration-color: #800000\">structures and PML or fully extend structure through the pml.      </span>\n",
       "</pre>\n"
      ],
      "text/plain": [
       "\u001b[2;36m            \u001b[0m\u001b[2;36m \u001b[0m\u001b[31mWARNING: Structure at structures\u001b[0m\u001b[1;31m[\u001b[0m\u001b[1;36m0\u001b[0m\u001b[1;31m]\u001b[0m\u001b[31m was detected as being less than\u001b[0m\n",
       "\u001b[2;36m             \u001b[0m\u001b[31mhalf of a central wavelength from a PML on side z-max. To avoid    \u001b[0m\n",
       "\u001b[2;36m             \u001b[0m\u001b[31minaccurate results or divergence, please increase gap between any  \u001b[0m\n",
       "\u001b[2;36m             \u001b[0m\u001b[31mstructures and PML or fully extend structure through the pml.      \u001b[0m\n"
      ]
     },
     "metadata": {},
     "output_type": "display_data"
    },
    {
     "data": {
      "text/html": [
       "<pre style=\"white-space:pre;overflow-x:auto;line-height:normal;font-family:Menlo,'DejaVu Sans Mono',consolas,'Courier New',monospace\"><span style=\"color: #7fbfbf; text-decoration-color: #7fbfbf\">             </span><span style=\"color: #800000; text-decoration-color: #800000\">WARNING: Suppressed </span><span style=\"color: #008080; text-decoration-color: #008080; font-weight: bold\">40</span><span style=\"color: #800000; text-decoration-color: #800000\"> WARNING messages.                           </span>\n",
       "</pre>\n"
      ],
      "text/plain": [
       "\u001b[2;36m            \u001b[0m\u001b[2;36m \u001b[0m\u001b[31mWARNING: Suppressed \u001b[0m\u001b[1;36m40\u001b[0m\u001b[31m WARNING messages.                           \u001b[0m\n"
      ]
     },
     "metadata": {},
     "output_type": "display_data"
    },
    {
     "data": {
      "text/html": [
       "<pre style=\"white-space:pre;overflow-x:auto;line-height:normal;font-family:Menlo,'DejaVu Sans Mono',consolas,'Courier New',monospace\"><span style=\"color: #7fbfbf; text-decoration-color: #7fbfbf\">             </span><span style=\"color: #800000; text-decoration-color: #800000\">WARNING: Warning messages were found in the solver log. For more   </span>\n",
       "<span style=\"color: #7fbfbf; text-decoration-color: #7fbfbf\">             </span><span style=\"color: #800000; text-decoration-color: #800000\">information, check </span><span style=\"color: #008000; text-decoration-color: #008000\">'SimulationData.log'</span><span style=\"color: #800000; text-decoration-color: #800000\"> or use                     </span>\n",
       "<span style=\"color: #7fbfbf; text-decoration-color: #7fbfbf\">             </span><span style=\"color: #008000; text-decoration-color: #008000\">'web.download_log(task_id)'</span><span style=\"color: #800000; text-decoration-color: #800000\">.                                       </span>\n",
       "</pre>\n"
      ],
      "text/plain": [
       "\u001b[2;36m            \u001b[0m\u001b[2;36m \u001b[0m\u001b[31mWARNING: Warning messages were found in the solver log. For more   \u001b[0m\n",
       "\u001b[2;36m             \u001b[0m\u001b[31minformation, check \u001b[0m\u001b[32m'SimulationData.log'\u001b[0m\u001b[31m or use                     \u001b[0m\n",
       "\u001b[2;36m             \u001b[0m\u001b[32m'web.download_log\u001b[0m\u001b[32m(\u001b[0m\u001b[32mtask_id\u001b[0m\u001b[32m)\u001b[0m\u001b[32m'\u001b[0m\u001b[31m.                                       \u001b[0m\n"
      ]
     },
     "metadata": {},
     "output_type": "display_data"
    },
    {
     "data": {
      "text/plain": [
       "Text(0.5, 1.0, 'Electric field in the passband of the filter')"
      ]
     },
     "execution_count": 9,
     "metadata": {},
     "output_type": "execute_result"
    },
    {
     "data": {
      "image/png": "[encoded data removed]",
      "text/plain": [
       "<Figure size 1100x300 with 4 Axes>"
      ]
     },
     "metadata": {},
     "output_type": "display_data"
    }
   ],
   "source": [
    "sim1 = modeler.batch.load(path_dir=\"data\")[\"smatrix_lumped_port_1\"]\n",
    "\n",
    "f, (ax1, ax2) = plt.subplots(1, 2, tight_layout=True, figsize=(11, 3))\n",
    "sim1.plot_field(field_monitor_name=\"field\", field_name=\"Ez\", val=\"abs\", f=freq_stopband, ax=ax1)\n",
    "# Update plot labels\n",
    "ax1.xaxis.set_major_formatter(formatter)\n",
    "ax1.yaxis.set_major_formatter(formatter)\n",
    "ax1.set_xlabel(xlbl)\n",
    "ax1.set_ylabel(ylbl)\n",
    "ax1.set_title(\"Electric field in the stopband of the filter\")\n",
    "sim1.plot_field(field_monitor_name=\"field\", field_name=\"Ez\", val=\"abs\", f=freq0, ax=ax2)\n",
    "# Update plot labels\n",
    "ax2.xaxis.set_major_formatter(formatter)\n",
    "ax2.yaxis.set_major_formatter(formatter)\n",
    "ax2.set_xlabel(xlbl)\n",
    "ax2.set_ylabel(ylbl)\n",
    "ax2.set_title(\"Electric field in the passband of the filter\")"
   ]
  },
  {
   "cell_type": "markdown",
   "id": "91894098",
   "metadata": {},
   "source": [
    "# Creating a Network Using the `scikit-rf` Package\n",
    "In order to help us validate the design, we use the open source `scikit-rf` package. By treating each coupled line segment as an independent transmission line [2], we can build a simple circuit model of the network by chaining the four segments using the ABCD matrix representation [2].\n",
    "\n",
    "Once ABCD matrices have been generated for each segment, it is quite simple to compute the scattering parameters using the functionality provided by `scikit-rf`."
   ]
  },
  {
   "cell_type": "code",
   "execution_count": 10,
   "id": "f4ff32fa",
   "metadata": {},
   "outputs": [],
   "source": [
    "# Helper function that creates a model of the 2 port filter network using the scikit-rf package.\n",
    "# This model is useful for validation, but it is based on transmission line models.\n",
    "# As a result, it will not be as accurate as a converged full-wave solution.\n",
    "def create_network_model_four_segment_coupler_with_scikit(\n",
    "    freqs, lengths, widths, height, gaps, eps_sub\n",
    "):\n",
    "    # Helper function that creates an ABCD matrix for each coupler section.\n",
    "    def abcd_from_coupled_strip(lambda_0, length, width, height, gap, eps_sub):\n",
    "        # Use models provided in the microwave plugin to estimate characteristic impedance\n",
    "        # and effective permittivities for the even and odd modes of the coupled line\n",
    "        (z0_even, z0_odd, er_eff_even, er_eff_odd) = (\n",
    "            mw.models.coupled_microstrip.compute_line_params(\n",
    "                relative_permittivity=eps_sub, width=width, height=height, gap=gap\n",
    "            )\n",
    "        )\n",
    "        # First we estimate the electrical length of the segment\n",
    "        # Use the geometric mean of the even/odd permittivities as an approximation for the relative permittivity\n",
    "        er_geo_mean = np.sqrt(er_eff_even * er_eff_odd)\n",
    "        # Phase constant is computed using free space wavelength and the effective permittivity\n",
    "        beta = 2 * np.pi / lambda_0 * np.sqrt(er_geo_mean)\n",
    "        # Microstrips terminated by an open circuit have fringing fields that can be modeled as a slight extension to the microstrip.\n",
    "        # This functionality is available in the microwave plugin.\n",
    "        dL = mw.models.microstrip.compute_end_effect_length(eps_sub, er_geo_mean, width, height)\n",
    "        # With the modified length and phase constant the electrical length is estimated for this segment.\n",
    "        theta = beta * (length + dL)\n",
    "        costheta = np.cos(theta)\n",
    "        sintheta = np.sin(theta)\n",
    "        # Compute the characteristic impedance of the coupler line segment using Table 8.8 from [2]\n",
    "        impedance = np.sqrt(\n",
    "            ((z0_even - z0_odd) ** 2 - (z0_even + z0_odd) ** 2 * costheta**2).astype(complex)\n",
    "        ) / (2 * sintheta)\n",
    "        # Using Equation 8.103 from [2]\n",
    "        cosbetal = costheta * (z0_even + z0_odd) / (z0_even - z0_odd)\n",
    "        sinthetal = np.sqrt((1 - cosbetal**2).astype(complex))\n",
    "        # This is the canonical ABCD matrix for a transmission line\n",
    "        A = cosbetal\n",
    "        B = 1j * impedance * sinthetal\n",
    "        C = 1j / impedance * sinthetal\n",
    "        D = cosbetal\n",
    "        # Change location of frequency dimension to conform to the scikit-rf format\n",
    "        abcd = np.array([[A, B], [C, D]])\n",
    "        return np.transpose(abcd, axes=(2, 0, 1))\n",
    "\n",
    "    # Compute the wavelengths in free space\n",
    "    lambda_0 = 3e14 / freqs  # speed of light in microns/s\n",
    "    abcd1 = abcd_from_coupled_strip(\n",
    "        lambda_0,\n",
    "        length=lengths[0],\n",
    "        width=widths[0],\n",
    "        height=height,\n",
    "        gap=gaps[0],\n",
    "        eps_sub=eps_sub,\n",
    "    )\n",
    "    abcd2 = abcd_from_coupled_strip(\n",
    "        lambda_0,\n",
    "        length=lengths[1],\n",
    "        width=widths[1],\n",
    "        height=height,\n",
    "        gap=gaps[1],\n",
    "        eps_sub=eps_sub,\n",
    "    )\n",
    "\n",
    "    freq = rf.Frequency.from_f(freqs, unit=\"Hz\")\n",
    "    abcd1_ntw = rf.Network(frequency=freq, a=abcd1, name=\"cstrip1\")\n",
    "    abcd2_ntw = rf.Network(frequency=freq, a=abcd2, name=\"cstrip2\")\n",
    "\n",
    "    port1 = rf.Circuit.Port(freq, \"port1\")\n",
    "    port2 = rf.Circuit.Port(freq, \"port2\")\n",
    "\n",
    "    # The complete network is made up of four segments where there are only two unique segments\n",
    "    chain = abcd1_ntw**abcd2_ntw**abcd2_ntw**abcd1_ntw\n",
    "\n",
    "    # Add the ports to the network\n",
    "    cnx = [\n",
    "        [(port1, 0), (chain, 0)],\n",
    "        [(chain, 1), (port2, 0)],\n",
    "    ]\n",
    "    # building the circuit\n",
    "    cir = rf.Circuit(cnx)\n",
    "    # return the resulting Network from the 'network' parameter:\n",
    "    return cir.network"
   ]
  },
  {
   "cell_type": "markdown",
   "id": "288fcdbb",
   "metadata": {},
   "source": [
    "# Plotting the Scattering Parameters from the Initial Design\n",
    "\n",
    "We may now plot the computed scattering parameters $S_{11}$ and $S_{12}$ using both the results from the `scikit-rf` model and the `Tidy3D` simulations."
   ]
  },
  {
   "cell_type": "code",
   "execution_count": 11,
   "id": "a7e3968f",
   "metadata": {},
   "outputs": [
    {
     "data": {
      "image/png": "[encoded data removed]",
      "text/plain": [
       "<Figure size 1100x300 with 2 Axes>"
      ]
     },
     "metadata": {},
     "output_type": "display_data"
    }
   ],
   "source": [
    "# Create the network using transmission line models for comparison with tidy3D simulations\n",
    "ntw = create_network_model_four_segment_coupler_with_scikit(\n",
    "    freqs=freqs,\n",
    "    lengths=lengths,\n",
    "    widths=widths,\n",
    "    height=h_sub,\n",
    "    gaps=gaps,\n",
    "    eps_sub=eps_sub,\n",
    ")\n",
    "# Plot the scattering parameters related to reflection and transmission\n",
    "_, (ax1, ax2) = plt.subplots(1, 2, figsize=(11, 3))\n",
    "ax1.plot(\n",
    "    freqs / 1e9,\n",
    "    20 * np.log10(np.abs(ntw.s[:, 0, 0])),\n",
    "    \"-r\",\n",
    "    s_matrix.f / 1e9,\n",
    "    20 * np.log10(np.abs(s_matrix.isel(port_out=0, port_in=0).values.flatten())),\n",
    "    \"--b\",\n",
    ")\n",
    "ax1.legend([\"scikit-rf\", \"Tidy3D\"], loc=\"lower right\")\n",
    "ax1.set_xlabel(\"Frequency (GHz)\")\n",
    "ax1.set_ylabel(r\"$|S_{11}|$ (dB)\")\n",
    "ax1.set_ylim([-50, 1])\n",
    "ax1.grid()\n",
    "\n",
    "ax2.plot(\n",
    "    freqs / 1e9,\n",
    "    20 * np.log10(np.abs(ntw.s[:, 0, 1])),\n",
    "    \"-r\",\n",
    "    s_matrix.f / 1e9,\n",
    "    20 * np.log10(np.abs(s_matrix.isel(port_out=0, port_in=1).values.flatten())),\n",
    "    \"--b\",\n",
    ")\n",
    "ax2.legend([\"scikit-rf\", \"Tidy3D\"], loc=\"lower right\")\n",
    "ax2.set_xlabel(\"Frequency (GHz)\")\n",
    "ax2.set_ylabel(r\"$|S_{12}|$ (dB)\")\n",
    "ax2.set_ylim([-50, 1])\n",
    "ax2.grid()"
   ]
  },
  {
   "cell_type": "markdown",
   "id": "640b8963",
   "metadata": {},
   "source": [
    "# Optimized Design of Bandpass Filter\n",
    "\n",
    "From the previous results we observe that the filter is not exactly centered at 6 GHz, which was a desired feature. In this part, we optimize the microstrip parameters from [1] to achieve a better implementation of the desired filter.\n",
    "\n",
    "The specified even and odd characteristic impedances for the coupled lines from [1] are tabulated below.\n",
    "\n",
    "| Segment  | $$Z_{\\textrm{even}} ~(\\Omega)$$ | $$Z_{\\textrm{odd}} ~(\\Omega)$$ |\n",
    "| -------- | ---------- | ------------ |\n",
    "| 1 |   101.5 | 38.5 |\n",
    "| 2 |   71 | 39 |\n",
    "| 3 |   71 | 39 |\n",
    "| 4 |   101.5 | 38.5 |\n",
    "\n",
    "We now use the `optimize` module from the `scipy` package to find better widths, gaps, and lengths. These optimized parameters will result in coupled microstrip lines that more closely match the desired even and odd characteristic impedances from [1]."
   ]
  },
  {
   "cell_type": "code",
   "execution_count": 12,
   "id": "da2bde72",
   "metadata": {},
   "outputs": [
    {
     "name": "stdout",
     "output_type": "stream",
     "text": [
      "The new optimized dimensions for the coupled microstrips are: \n",
      "Widths (mm): [1.4161279  2.39856517 2.39856517 1.4161279 ]\n",
      "Lengths (mm): [6.60907322 6.39916412 6.39916412 6.60907322]\n",
      "Gaps (mm): [0.13409214 0.3863375  0.3863375  0.13409214]\n"
     ]
    }
   ],
   "source": [
    "# Given parameters are a list of desired even and odd impedances, from [1]\n",
    "Z_evens = [101.5, 71, 71, 101.5]\n",
    "Z_odds = [38.5, 39, 39, 38.5]\n",
    "\n",
    "\n",
    "# Define a target function that is used to find the optimal width and gap of a coupled microstrip given a desired even/odd impedance pair\n",
    "def target_func(x, *args):\n",
    "    width = x[0]\n",
    "    gap = x[1]\n",
    "    # Tidy3D microwave plugin function to quickly approximate parameters of coupled microstrips\n",
    "    (z0_even, z0_odd, _, _) = mw.models.coupled_microstrip.compute_line_params(\n",
    "        relative_permittivity=eps_sub, width=width, height=h_sub, gap=gap\n",
    "    )\n",
    "    even_target = args[0]\n",
    "    odd_target = args[1]\n",
    "    # Simple error metric\n",
    "    error = (z0_even - even_target) ** 2 + (z0_odd - odd_target) ** 2\n",
    "    return error\n",
    "\n",
    "\n",
    "# Use approximate models for microstrip parameters to compute the needed widths, gaps, and lengths of segments\n",
    "strips_W = []\n",
    "strips_G = []\n",
    "strips_L = []\n",
    "for Z_even, Z_odd in zip(Z_evens, Z_odds):\n",
    "    # Search for solutions within the domain 1 < width < 10 and 0.05 < gap < 1\n",
    "    bounds = [(1 * mm, 10 * mm), (0.05 * mm, 1 * mm)]\n",
    "    # Target values for even/odd impedances\n",
    "    args = (Z_even, Z_odd)\n",
    "    res = opt.minimize(\n",
    "        target_func,\n",
    "        x0=[5 * mm, 0.5 * mm],\n",
    "        bounds=bounds,\n",
    "        tol=1e-4,\n",
    "        method=\"L-BFGS-B\",\n",
    "        args=args,\n",
    "    )\n",
    "    width = res.x[0]\n",
    "    gap = res.x[1]\n",
    "    strips_W.append(width)\n",
    "    strips_G.append(gap)\n",
    "    # Compute the required segment length which needs to have an electrical length of lambda/4\n",
    "    (_, _, er_eff_even, er_eff_odd) = mw.models.coupled_microstrip.compute_line_params(\n",
    "        relative_permittivity=eps_sub, width=width, height=h_sub, gap=gap\n",
    "    )\n",
    "    # Use the geometric mean of the even/odd permittivities as an approximation for the relative permittivity\n",
    "    er_geo_mean = np.sqrt(er_eff_even * er_eff_odd)\n",
    "    length = (lda0) / 4 / (np.sqrt(er_geo_mean))\n",
    "    # Microstrips terminated by an open circuit have fringing fields that can be modelled as a slight extension to the microstrip\n",
    "    dL = mw.models.microstrip.compute_end_effect_length(\n",
    "        eps_sub, er_geo_mean, width, h_sub\n",
    "    )\n",
    "    # As a result, we need a slightly shorter section\n",
    "    length -= dL\n",
    "    strips_L.append(length)\n",
    "\n",
    "# Numpy arrays of the microstrip dimensions\n",
    "lengths = np.array(strips_L)\n",
    "widths = np.array(strips_W)\n",
    "gaps = np.array(strips_G)\n",
    "\n",
    "print(\"The new optimized dimensions for the coupled microstrips are: \")\n",
    "print(f\"Widths (mm): {widths*1e-3}\")\n",
    "print(f\"Lengths (mm): {lengths*1e-3}\")\n",
    "print(f\"Gaps (mm): {gaps*1e-3}\")"
   ]
  },
  {
   "cell_type": "markdown",
   "id": "68f8ecd0",
   "metadata": {},
   "source": [
    "Using the previously defined helper functions, we can quickly set up the new structures and simulations."
   ]
  },
  {
   "cell_type": "code",
   "execution_count": 13,
   "id": "659918cf",
   "metadata": {},
   "outputs": [
    {
     "data": {
      "text/html": [
       "<pre style=\"white-space:pre;overflow-x:auto;line-height:normal;font-family:Menlo,'DejaVu Sans Mono',consolas,'Courier New',monospace\"><span style=\"color: #7fbfbf; text-decoration-color: #7fbfbf\">14:32:59 EDT </span><span style=\"color: #800000; text-decoration-color: #800000\">WARNING: Structure at structures</span><span style=\"color: #800000; text-decoration-color: #800000; font-weight: bold\">[</span><span style=\"color: #008080; text-decoration-color: #008080; font-weight: bold\">0</span><span style=\"color: #800000; text-decoration-color: #800000; font-weight: bold\">]</span><span style=\"color: #800000; text-decoration-color: #800000\"> was detected as being less than</span>\n",
       "<span style=\"color: #7fbfbf; text-decoration-color: #7fbfbf\">             </span><span style=\"color: #800000; text-decoration-color: #800000\">half of a central wavelength from a PML on side z-max. To avoid    </span>\n",
       "<span style=\"color: #7fbfbf; text-decoration-color: #7fbfbf\">             </span><span style=\"color: #800000; text-decoration-color: #800000\">inaccurate results or divergence, please increase gap between any  </span>\n",
       "<span style=\"color: #7fbfbf; text-decoration-color: #7fbfbf\">             </span><span style=\"color: #800000; text-decoration-color: #800000\">structures and PML or fully extend structure through the pml.      </span>\n",
       "</pre>\n"
      ],
      "text/plain": [
       "\u001b[2;36m14:32:59 EDT\u001b[0m\u001b[2;36m \u001b[0m\u001b[31mWARNING: Structure at structures\u001b[0m\u001b[1;31m[\u001b[0m\u001b[1;36m0\u001b[0m\u001b[1;31m]\u001b[0m\u001b[31m was detected as being less than\u001b[0m\n",
       "\u001b[2;36m             \u001b[0m\u001b[31mhalf of a central wavelength from a PML on side z-max. To avoid    \u001b[0m\n",
       "\u001b[2;36m             \u001b[0m\u001b[31minaccurate results or divergence, please increase gap between any  \u001b[0m\n",
       "\u001b[2;36m             \u001b[0m\u001b[31mstructures and PML or fully extend structure through the pml.      \u001b[0m\n"
      ]
     },
     "metadata": {},
     "output_type": "display_data"
    },
    {
     "data": {
      "text/html": [
       "<pre style=\"white-space:pre;overflow-x:auto;line-height:normal;font-family:Menlo,'DejaVu Sans Mono',consolas,'Courier New',monospace\"><span style=\"color: #7fbfbf; text-decoration-color: #7fbfbf\">             </span><span style=\"color: #800000; text-decoration-color: #800000\">WARNING: Suppressed </span><span style=\"color: #008080; text-decoration-color: #008080; font-weight: bold\">40</span><span style=\"color: #800000; text-decoration-color: #800000\"> WARNING messages.                           </span>\n",
       "</pre>\n"
      ],
      "text/plain": [
       "\u001b[2;36m            \u001b[0m\u001b[2;36m \u001b[0m\u001b[31mWARNING: Suppressed \u001b[0m\u001b[1;36m40\u001b[0m\u001b[31m WARNING messages.                           \u001b[0m\n"
      ]
     },
     "metadata": {},
     "output_type": "display_data"
    },
    {
     "data": {
      "text/html": [
       "<pre style=\"white-space:pre;overflow-x:auto;line-height:normal;font-family:Menlo,'DejaVu Sans Mono',consolas,'Courier New',monospace\"><span style=\"color: #7fbfbf; text-decoration-color: #7fbfbf\">             </span><span style=\"color: #800000; text-decoration-color: #800000\">WARNING: Structure at structures</span><span style=\"color: #800000; text-decoration-color: #800000; font-weight: bold\">[</span><span style=\"color: #008080; text-decoration-color: #008080; font-weight: bold\">0</span><span style=\"color: #800000; text-decoration-color: #800000; font-weight: bold\">]</span><span style=\"color: #800000; text-decoration-color: #800000\"> was detected as being less than</span>\n",
       "<span style=\"color: #7fbfbf; text-decoration-color: #7fbfbf\">             </span><span style=\"color: #800000; text-decoration-color: #800000\">half of a central wavelength from a PML on side z-max. To avoid    </span>\n",
       "<span style=\"color: #7fbfbf; text-decoration-color: #7fbfbf\">             </span><span style=\"color: #800000; text-decoration-color: #800000\">inaccurate results or divergence, please increase gap between any  </span>\n",
       "<span style=\"color: #7fbfbf; text-decoration-color: #7fbfbf\">             </span><span style=\"color: #800000; text-decoration-color: #800000\">structures and PML or fully extend structure through the pml.      </span>\n",
       "</pre>\n"
      ],
      "text/plain": [
       "\u001b[2;36m            \u001b[0m\u001b[2;36m \u001b[0m\u001b[31mWARNING: Structure at structures\u001b[0m\u001b[1;31m[\u001b[0m\u001b[1;36m0\u001b[0m\u001b[1;31m]\u001b[0m\u001b[31m was detected as being less than\u001b[0m\n",
       "\u001b[2;36m             \u001b[0m\u001b[31mhalf of a central wavelength from a PML on side z-max. To avoid    \u001b[0m\n",
       "\u001b[2;36m             \u001b[0m\u001b[31minaccurate results or divergence, please increase gap between any  \u001b[0m\n",
       "\u001b[2;36m             \u001b[0m\u001b[31mstructures and PML or fully extend structure through the pml.      \u001b[0m\n"
      ]
     },
     "metadata": {},
     "output_type": "display_data"
    },
    {
     "data": {
      "text/html": [
       "<pre style=\"white-space:pre;overflow-x:auto;line-height:normal;font-family:Menlo,'DejaVu Sans Mono',consolas,'Courier New',monospace\"><span style=\"color: #7fbfbf; text-decoration-color: #7fbfbf\">             </span><span style=\"color: #800000; text-decoration-color: #800000\">WARNING: Suppressed </span><span style=\"color: #008080; text-decoration-color: #008080; font-weight: bold\">40</span><span style=\"color: #800000; text-decoration-color: #800000\"> WARNING messages.                           </span>\n",
       "</pre>\n"
      ],
      "text/plain": [
       "\u001b[2;36m            \u001b[0m\u001b[2;36m \u001b[0m\u001b[31mWARNING: Suppressed \u001b[0m\u001b[1;36m40\u001b[0m\u001b[31m WARNING messages.                           \u001b[0m\n"
      ]
     },
     "metadata": {},
     "output_type": "display_data"
    },
    {
     "data": {
      "text/html": [
       "<pre style=\"white-space:pre;overflow-x:auto;line-height:normal;font-family:Menlo,'DejaVu Sans Mono',consolas,'Courier New',monospace\"><span style=\"color: #7fbfbf; text-decoration-color: #7fbfbf\">             </span>Created task <span style=\"color: #008000; text-decoration-color: #008000\">'smatrix_lumped_port_1'</span> with task_id                  \n",
       "<span style=\"color: #7fbfbf; text-decoration-color: #7fbfbf\">             </span><span style=\"color: #008000; text-decoration-color: #008000\">'fdve-d7f8c266-8588-415e-b1af-8eceee74dd20'</span> and task_type <span style=\"color: #008000; text-decoration-color: #008000\">'FDTD'</span>.  \n",
       "</pre>\n"
      ],
      "text/plain": [
       "\u001b[2;36m            \u001b[0m\u001b[2;36m \u001b[0mCreated task \u001b[32m'smatrix_lumped_port_1'\u001b[0m with task_id                  \n",
       "\u001b[2;36m             \u001b[0m\u001b[32m'fdve-d7f8c266-8588-415e-b1af-8eceee74dd20'\u001b[0m and task_type \u001b[32m'FDTD'\u001b[0m.  \n"
      ]
     },
     "metadata": {},
     "output_type": "display_data"
    },
    {
     "data": {
      "text/html": [
       "<pre style=\"white-space:pre;overflow-x:auto;line-height:normal;font-family:Menlo,'DejaVu Sans Mono',consolas,'Courier New',monospace\"><span style=\"color: #7fbfbf; text-decoration-color: #7fbfbf\">             </span>View task using web UI at                                          \n",
       "<span style=\"color: #7fbfbf; text-decoration-color: #7fbfbf\">             </span><a href=\"https://tidy3d.simulation.cloud/workbench?taskId=fdve-d7f8c266-8588-415e-b1af-8eceee74dd20\" target=\"_blank\"><span style=\"color: #008000; text-decoration-color: #008000\">'https://tidy3d.simulation.cloud/workbench?taskId=fdve-d7f8c266-858</span></a>\n",
       "<span style=\"color: #7fbfbf; text-decoration-color: #7fbfbf\">             </span><a href=\"https://tidy3d.simulation.cloud/workbench?taskId=fdve-d7f8c266-8588-415e-b1af-8eceee74dd20\" target=\"_blank\"><span style=\"color: #008000; text-decoration-color: #008000\">8-415e-b1af-8eceee74dd20'</span></a>.                                         \n",
       "</pre>\n"
      ],
      "text/plain": [
       "\u001b[2;36m            \u001b[0m\u001b[2;36m \u001b[0mView task using web UI at                                          \n",
       "\u001b[2;36m             \u001b[0m\u001b]8;id=255938;https://tidy3d.simulation.cloud/workbench?taskId=fdve-d7f8c266-8588-415e-b1af-8eceee74dd20\u001b\\\u001b[32m'https://tidy3d.simulation.cloud/workbench?\u001b[0m\u001b]8;;\u001b\\\u001b]8;id=263363;https://tidy3d.simulation.cloud/workbench?taskId=fdve-d7f8c266-8588-415e-b1af-8eceee74dd20\u001b\\\u001b[32mtaskId\u001b[0m\u001b]8;;\u001b\\\u001b]8;id=255938;https://tidy3d.simulation.cloud/workbench?taskId=fdve-d7f8c266-8588-415e-b1af-8eceee74dd20\u001b\\\u001b[32m=\u001b[0m\u001b]8;;\u001b\\\u001b]8;id=84238;https://tidy3d.simulation.cloud/workbench?taskId=fdve-d7f8c266-8588-415e-b1af-8eceee74dd20\u001b\\\u001b[32mfdve\u001b[0m\u001b]8;;\u001b\\\u001b]8;id=255938;https://tidy3d.simulation.cloud/workbench?taskId=fdve-d7f8c266-8588-415e-b1af-8eceee74dd20\u001b\\\u001b[32m-d7f8c266-858\u001b[0m\u001b]8;;\u001b\\\n",
       "\u001b[2;36m             \u001b[0m\u001b]8;id=255938;https://tidy3d.simulation.cloud/workbench?taskId=fdve-d7f8c266-8588-415e-b1af-8eceee74dd20\u001b\\\u001b[32m8-415e-b1af-8eceee74dd20'\u001b[0m\u001b]8;;\u001b\\.                                         \n"
      ]
     },
     "metadata": {},
     "output_type": "display_data"
    },
    {
     "data": {
      "application/vnd.jupyter.widget-view+json": {
       "model_id": "bf35229558714540aaa610f01a5cdd26",
       "version_major": 2,
       "version_minor": 0
      },
      "text/plain": [
       "Output()"
      ]
     },
     "metadata": {},
     "output_type": "display_data"
    },
    {
     "data": {
      "text/html": [
       "<pre style=\"white-space:pre;overflow-x:auto;line-height:normal;font-family:Menlo,'DejaVu Sans Mono',consolas,'Courier New',monospace\"></pre>\n"
      ],
      "text/plain": []
     },
     "metadata": {},
     "output_type": "display_data"
    },
    {
     "data": {
      "text/html": [
       "<pre style=\"white-space:pre;overflow-x:auto;line-height:normal;font-family:Menlo,'DejaVu Sans Mono',consolas,'Courier New',monospace\">\n",
       "</pre>\n"
      ],
      "text/plain": [
       "\n"
      ]
     },
     "metadata": {},
     "output_type": "display_data"
    },
    {
     "data": {
      "text/html": [
       "<pre style=\"white-space:pre;overflow-x:auto;line-height:normal;font-family:Menlo,'DejaVu Sans Mono',consolas,'Courier New',monospace\"><span style=\"color: #7fbfbf; text-decoration-color: #7fbfbf\">14:33:00 EDT </span>Created task <span style=\"color: #008000; text-decoration-color: #008000\">'smatrix_lumped_port_2'</span> with task_id                  \n",
       "<span style=\"color: #7fbfbf; text-decoration-color: #7fbfbf\">             </span><span style=\"color: #008000; text-decoration-color: #008000\">'fdve-55d61323-440c-4e43-ba69-075e0ee271b6'</span> and task_type <span style=\"color: #008000; text-decoration-color: #008000\">'FDTD'</span>.  \n",
       "</pre>\n"
      ],
      "text/plain": [
       "\u001b[2;36m14:33:00 EDT\u001b[0m\u001b[2;36m \u001b[0mCreated task \u001b[32m'smatrix_lumped_port_2'\u001b[0m with task_id                  \n",
       "\u001b[2;36m             \u001b[0m\u001b[32m'fdve-55d61323-440c-4e43-ba69-075e0ee271b6'\u001b[0m and task_type \u001b[32m'FDTD'\u001b[0m.  \n"
      ]
     },
     "metadata": {},
     "output_type": "display_data"
    },
    {
     "data": {
      "text/html": [
       "<pre style=\"white-space:pre;overflow-x:auto;line-height:normal;font-family:Menlo,'DejaVu Sans Mono',consolas,'Courier New',monospace\"><span style=\"color: #7fbfbf; text-decoration-color: #7fbfbf\">             </span>View task using web UI at                                          \n",
       "<span style=\"color: #7fbfbf; text-decoration-color: #7fbfbf\">             </span><a href=\"https://tidy3d.simulation.cloud/workbench?taskId=fdve-55d61323-440c-4e43-ba69-075e0ee271b6\" target=\"_blank\"><span style=\"color: #008000; text-decoration-color: #008000\">'https://tidy3d.simulation.cloud/workbench?taskId=fdve-55d61323-440</span></a>\n",
       "<span style=\"color: #7fbfbf; text-decoration-color: #7fbfbf\">             </span><a href=\"https://tidy3d.simulation.cloud/workbench?taskId=fdve-55d61323-440c-4e43-ba69-075e0ee271b6\" target=\"_blank\"><span style=\"color: #008000; text-decoration-color: #008000\">c-4e43-ba69-075e0ee271b6'</span></a>.                                         \n",
       "</pre>\n"
      ],
      "text/plain": [
       "\u001b[2;36m            \u001b[0m\u001b[2;36m \u001b[0mView task using web UI at                                          \n",
       "\u001b[2;36m             \u001b[0m\u001b]8;id=574512;https://tidy3d.simulation.cloud/workbench?taskId=fdve-55d61323-440c-4e43-ba69-075e0ee271b6\u001b\\\u001b[32m'https://tidy3d.simulation.cloud/workbench?\u001b[0m\u001b]8;;\u001b\\\u001b]8;id=680180;https://tidy3d.simulation.cloud/workbench?taskId=fdve-55d61323-440c-4e43-ba69-075e0ee271b6\u001b\\\u001b[32mtaskId\u001b[0m\u001b]8;;\u001b\\\u001b]8;id=574512;https://tidy3d.simulation.cloud/workbench?taskId=fdve-55d61323-440c-4e43-ba69-075e0ee271b6\u001b\\\u001b[32m=\u001b[0m\u001b]8;;\u001b\\\u001b]8;id=369033;https://tidy3d.simulation.cloud/workbench?taskId=fdve-55d61323-440c-4e43-ba69-075e0ee271b6\u001b\\\u001b[32mfdve\u001b[0m\u001b]8;;\u001b\\\u001b]8;id=574512;https://tidy3d.simulation.cloud/workbench?taskId=fdve-55d61323-440c-4e43-ba69-075e0ee271b6\u001b\\\u001b[32m-55d61323-440\u001b[0m\u001b]8;;\u001b\\\n",
       "\u001b[2;36m             \u001b[0m\u001b]8;id=574512;https://tidy3d.simulation.cloud/workbench?taskId=fdve-55d61323-440c-4e43-ba69-075e0ee271b6\u001b\\\u001b[32mc-4e43-ba69-075e0ee271b6'\u001b[0m\u001b]8;;\u001b\\.                                         \n"
      ]
     },
     "metadata": {},
     "output_type": "display_data"
    },
    {
     "data": {
      "application/vnd.jupyter.widget-view+json": {
       "model_id": "1aa2b0a1f4314a4dbd1b69a4b9bb4e9f",
       "version_major": 2,
       "version_minor": 0
      },
      "text/plain": [
       "Output()"
      ]
     },
     "metadata": {},
     "output_type": "display_data"
    },
    {
     "data": {
      "text/html": [
       "<pre style=\"white-space:pre;overflow-x:auto;line-height:normal;font-family:Menlo,'DejaVu Sans Mono',consolas,'Courier New',monospace\"></pre>\n"
      ],
      "text/plain": []
     },
     "metadata": {},
     "output_type": "display_data"
    },
    {
     "data": {
      "text/html": [
       "<pre style=\"white-space:pre;overflow-x:auto;line-height:normal;font-family:Menlo,'DejaVu Sans Mono',consolas,'Courier New',monospace\">\n",
       "</pre>\n"
      ],
      "text/plain": [
       "\n"
      ]
     },
     "metadata": {},
     "output_type": "display_data"
    },
    {
     "data": {
      "text/html": [
       "<pre style=\"white-space:pre;overflow-x:auto;line-height:normal;font-family:Menlo,'DejaVu Sans Mono',consolas,'Courier New',monospace\"><span style=\"color: #7fbfbf; text-decoration-color: #7fbfbf\">14:33:02 EDT </span>Started working on Batch.                                          \n",
       "</pre>\n"
      ],
      "text/plain": [
       "\u001b[2;36m14:33:02 EDT\u001b[0m\u001b[2;36m \u001b[0mStarted working on Batch.                                          \n"
      ]
     },
     "metadata": {},
     "output_type": "display_data"
    },
    {
     "data": {
      "text/html": [
       "<pre style=\"white-space:pre;overflow-x:auto;line-height:normal;font-family:Menlo,'DejaVu Sans Mono',consolas,'Courier New',monospace\"><span style=\"color: #7fbfbf; text-decoration-color: #7fbfbf\">14:33:03 EDT </span>Maximum FlexCredit cost: <span style=\"color: #008080; text-decoration-color: #008080; font-weight: bold\">0.206</span> for the whole batch.                \n",
       "</pre>\n"
      ],
      "text/plain": [
       "\u001b[2;36m14:33:03 EDT\u001b[0m\u001b[2;36m \u001b[0mMaximum FlexCredit cost: \u001b[1;36m0.206\u001b[0m for the whole batch.                \n"
      ]
     },
     "metadata": {},
     "output_type": "display_data"
    },
    {
     "data": {
      "text/html": [
       "<pre style=\"white-space:pre;overflow-x:auto;line-height:normal;font-family:Menlo,'DejaVu Sans Mono',consolas,'Courier New',monospace\"><span style=\"color: #7fbfbf; text-decoration-color: #7fbfbf\">             </span>Use <span style=\"color: #008000; text-decoration-color: #008000\">'Batch.real_cost()'</span> to get the billed FlexCredit cost after the\n",
       "<span style=\"color: #7fbfbf; text-decoration-color: #7fbfbf\">             </span>Batch has completed.                                               \n",
       "</pre>\n"
      ],
      "text/plain": [
       "\u001b[2;36m            \u001b[0m\u001b[2;36m \u001b[0mUse \u001b[32m'Batch.real_cost\u001b[0m\u001b[32m(\u001b[0m\u001b[32m)\u001b[0m\u001b[32m'\u001b[0m to get the billed FlexCredit cost after the\n",
       "\u001b[2;36m             \u001b[0mBatch has completed.                                               \n"
      ]
     },
     "metadata": {},
     "output_type": "display_data"
    },
    {
     "data": {
      "application/vnd.jupyter.widget-view+json": {
       "model_id": "ba630aeab83d4c01ad6405d534c9abd2",
       "version_major": 2,
       "version_minor": 0
      },
      "text/plain": [
       "Output()"
      ]
     },
     "metadata": {},
     "output_type": "display_data"
    },
    {
     "data": {
      "text/html": [
       "<pre style=\"white-space:pre;overflow-x:auto;line-height:normal;font-family:Menlo,'DejaVu Sans Mono',consolas,'Courier New',monospace\"><span style=\"color: #7fbfbf; text-decoration-color: #7fbfbf\">14:35:14 EDT </span>Batch complete.                                                    \n",
       "</pre>\n"
      ],
      "text/plain": [
       "\u001b[2;36m14:35:14 EDT\u001b[0m\u001b[2;36m \u001b[0mBatch complete.                                                    \n"
      ]
     },
     "metadata": {},
     "output_type": "display_data"
    },
    {
     "data": {
      "text/html": [
       "<pre style=\"white-space:pre;overflow-x:auto;line-height:normal;font-family:Menlo,'DejaVu Sans Mono',consolas,'Courier New',monospace\"></pre>\n"
      ],
      "text/plain": []
     },
     "metadata": {},
     "output_type": "display_data"
    },
    {
     "data": {
      "text/html": [
       "<pre style=\"white-space:pre;overflow-x:auto;line-height:normal;font-family:Menlo,'DejaVu Sans Mono',consolas,'Courier New',monospace\">\n",
       "</pre>\n"
      ],
      "text/plain": [
       "\n"
      ]
     },
     "metadata": {},
     "output_type": "display_data"
    },
    {
     "data": {
      "application/vnd.jupyter.widget-view+json": {
       "model_id": "47029ed26f734e5584702f3d71c4a50d",
       "version_major": 2,
       "version_minor": 0
      },
      "text/plain": [
       "Output()"
      ]
     },
     "metadata": {},
     "output_type": "display_data"
    },
    {
     "data": {
      "text/html": [
       "<pre style=\"white-space:pre;overflow-x:auto;line-height:normal;font-family:Menlo,'DejaVu Sans Mono',consolas,'Courier New',monospace\"></pre>\n"
      ],
      "text/plain": []
     },
     "metadata": {},
     "output_type": "display_data"
    },
    {
     "data": {
      "text/html": [
       "<pre style=\"white-space:pre;overflow-x:auto;line-height:normal;font-family:Menlo,'DejaVu Sans Mono',consolas,'Courier New',monospace\">\n",
       "</pre>\n"
      ],
      "text/plain": [
       "\n"
      ]
     },
     "metadata": {},
     "output_type": "display_data"
    },
    {
     "data": {
      "text/html": [
       "<pre style=\"white-space:pre;overflow-x:auto;line-height:normal;font-family:Menlo,'DejaVu Sans Mono',consolas,'Courier New',monospace\"><span style=\"color: #7fbfbf; text-decoration-color: #7fbfbf\">14:35:16 EDT </span>loading simulation from                                            \n",
       "<span style=\"color: #7fbfbf; text-decoration-color: #7fbfbf\">             </span>data/fdve-<span style=\"color: #ffff00; text-decoration-color: #ffff00\">d7f8c266-8588-415e-b1af-8eceee74dd20</span>.hdf5                \n",
       "</pre>\n"
      ],
      "text/plain": [
       "\u001b[2;36m14:35:16 EDT\u001b[0m\u001b[2;36m \u001b[0mloading simulation from                                            \n",
       "\u001b[2;36m             \u001b[0mdata/fdve-\u001b[93md7f8c266-8588-415e-b1af-8eceee74dd20\u001b[0m.hdf5                \n"
      ]
     },
     "metadata": {},
     "output_type": "display_data"
    },
    {
     "data": {
      "text/html": [
       "<pre style=\"white-space:pre;overflow-x:auto;line-height:normal;font-family:Menlo,'DejaVu Sans Mono',consolas,'Courier New',monospace\"><span style=\"color: #7fbfbf; text-decoration-color: #7fbfbf\">             </span><span style=\"color: #800000; text-decoration-color: #800000\">WARNING: Structure at structures</span><span style=\"color: #800000; text-decoration-color: #800000; font-weight: bold\">[</span><span style=\"color: #008080; text-decoration-color: #008080; font-weight: bold\">0</span><span style=\"color: #800000; text-decoration-color: #800000; font-weight: bold\">]</span><span style=\"color: #800000; text-decoration-color: #800000\"> was detected as being less than</span>\n",
       "<span style=\"color: #7fbfbf; text-decoration-color: #7fbfbf\">             </span><span style=\"color: #800000; text-decoration-color: #800000\">half of a central wavelength from a PML on side z-max. To avoid    </span>\n",
       "<span style=\"color: #7fbfbf; text-decoration-color: #7fbfbf\">             </span><span style=\"color: #800000; text-decoration-color: #800000\">inaccurate results or divergence, please increase gap between any  </span>\n",
       "<span style=\"color: #7fbfbf; text-decoration-color: #7fbfbf\">             </span><span style=\"color: #800000; text-decoration-color: #800000\">structures and PML or fully extend structure through the pml.      </span>\n",
       "</pre>\n"
      ],
      "text/plain": [
       "\u001b[2;36m            \u001b[0m\u001b[2;36m \u001b[0m\u001b[31mWARNING: Structure at structures\u001b[0m\u001b[1;31m[\u001b[0m\u001b[1;36m0\u001b[0m\u001b[1;31m]\u001b[0m\u001b[31m was detected as being less than\u001b[0m\n",
       "\u001b[2;36m             \u001b[0m\u001b[31mhalf of a central wavelength from a PML on side z-max. To avoid    \u001b[0m\n",
       "\u001b[2;36m             \u001b[0m\u001b[31minaccurate results or divergence, please increase gap between any  \u001b[0m\n",
       "\u001b[2;36m             \u001b[0m\u001b[31mstructures and PML or fully extend structure through the pml.      \u001b[0m\n"
      ]
     },
     "metadata": {},
     "output_type": "display_data"
    },
    {
     "data": {
      "text/html": [
       "<pre style=\"white-space:pre;overflow-x:auto;line-height:normal;font-family:Menlo,'DejaVu Sans Mono',consolas,'Courier New',monospace\"><span style=\"color: #7fbfbf; text-decoration-color: #7fbfbf\">             </span><span style=\"color: #800000; text-decoration-color: #800000\">WARNING: Suppressed </span><span style=\"color: #008080; text-decoration-color: #008080; font-weight: bold\">40</span><span style=\"color: #800000; text-decoration-color: #800000\"> WARNING messages.                           </span>\n",
       "</pre>\n"
      ],
      "text/plain": [
       "\u001b[2;36m            \u001b[0m\u001b[2;36m \u001b[0m\u001b[31mWARNING: Suppressed \u001b[0m\u001b[1;36m40\u001b[0m\u001b[31m WARNING messages.                           \u001b[0m\n"
      ]
     },
     "metadata": {},
     "output_type": "display_data"
    },
    {
     "data": {
      "text/html": [
       "<pre style=\"white-space:pre;overflow-x:auto;line-height:normal;font-family:Menlo,'DejaVu Sans Mono',consolas,'Courier New',monospace\"><span style=\"color: #7fbfbf; text-decoration-color: #7fbfbf\">             </span><span style=\"color: #800000; text-decoration-color: #800000\">WARNING: Warning messages were found in the solver log. For more   </span>\n",
       "<span style=\"color: #7fbfbf; text-decoration-color: #7fbfbf\">             </span><span style=\"color: #800000; text-decoration-color: #800000\">information, check </span><span style=\"color: #008000; text-decoration-color: #008000\">'SimulationData.log'</span><span style=\"color: #800000; text-decoration-color: #800000\"> or use                     </span>\n",
       "<span style=\"color: #7fbfbf; text-decoration-color: #7fbfbf\">             </span><span style=\"color: #008000; text-decoration-color: #008000\">'web.download_log(task_id)'</span><span style=\"color: #800000; text-decoration-color: #800000\">.                                       </span>\n",
       "</pre>\n"
      ],
      "text/plain": [
       "\u001b[2;36m            \u001b[0m\u001b[2;36m \u001b[0m\u001b[31mWARNING: Warning messages were found in the solver log. For more   \u001b[0m\n",
       "\u001b[2;36m             \u001b[0m\u001b[31minformation, check \u001b[0m\u001b[32m'SimulationData.log'\u001b[0m\u001b[31m or use                     \u001b[0m\n",
       "\u001b[2;36m             \u001b[0m\u001b[32m'web.download_log\u001b[0m\u001b[32m(\u001b[0m\u001b[32mtask_id\u001b[0m\u001b[32m)\u001b[0m\u001b[32m'\u001b[0m\u001b[31m.                                       \u001b[0m\n"
      ]
     },
     "metadata": {},
     "output_type": "display_data"
    },
    {
     "data": {
      "application/vnd.jupyter.widget-view+json": {
       "model_id": "3d2abfe2c9a948889bd06786dd2dd699",
       "version_major": 2,
       "version_minor": 0
      },
      "text/plain": [
       "Output()"
      ]
     },
     "metadata": {},
     "output_type": "display_data"
    },
    {
     "data": {
      "text/html": [
       "<pre style=\"white-space:pre;overflow-x:auto;line-height:normal;font-family:Menlo,'DejaVu Sans Mono',consolas,'Courier New',monospace\"></pre>\n"
      ],
      "text/plain": []
     },
     "metadata": {},
     "output_type": "display_data"
    },
    {
     "data": {
      "text/html": [
       "<pre style=\"white-space:pre;overflow-x:auto;line-height:normal;font-family:Menlo,'DejaVu Sans Mono',consolas,'Courier New',monospace\">\n",
       "</pre>\n"
      ],
      "text/plain": [
       "\n"
      ]
     },
     "metadata": {},
     "output_type": "display_data"
    },
    {
     "data": {
      "text/html": [
       "<pre style=\"white-space:pre;overflow-x:auto;line-height:normal;font-family:Menlo,'DejaVu Sans Mono',consolas,'Courier New',monospace\"><span style=\"color: #7fbfbf; text-decoration-color: #7fbfbf\">14:35:17 EDT </span>loading simulation from                                            \n",
       "<span style=\"color: #7fbfbf; text-decoration-color: #7fbfbf\">             </span>data/fdve-<span style=\"color: #ffff00; text-decoration-color: #ffff00\">55d61323-440c-4e43-ba69-075e0ee271b6</span>.hdf5                \n",
       "</pre>\n"
      ],
      "text/plain": [
       "\u001b[2;36m14:35:17 EDT\u001b[0m\u001b[2;36m \u001b[0mloading simulation from                                            \n",
       "\u001b[2;36m             \u001b[0mdata/fdve-\u001b[93m55d61323-440c-4e43-ba69-075e0ee271b6\u001b[0m.hdf5                \n"
      ]
     },
     "metadata": {},
     "output_type": "display_data"
    },
    {
     "data": {
      "text/html": [
       "<pre style=\"white-space:pre;overflow-x:auto;line-height:normal;font-family:Menlo,'DejaVu Sans Mono',consolas,'Courier New',monospace\"><span style=\"color: #7fbfbf; text-decoration-color: #7fbfbf\">             </span><span style=\"color: #800000; text-decoration-color: #800000\">WARNING: Structure at structures</span><span style=\"color: #800000; text-decoration-color: #800000; font-weight: bold\">[</span><span style=\"color: #008080; text-decoration-color: #008080; font-weight: bold\">0</span><span style=\"color: #800000; text-decoration-color: #800000; font-weight: bold\">]</span><span style=\"color: #800000; text-decoration-color: #800000\"> was detected as being less than</span>\n",
       "<span style=\"color: #7fbfbf; text-decoration-color: #7fbfbf\">             </span><span style=\"color: #800000; text-decoration-color: #800000\">half of a central wavelength from a PML on side z-max. To avoid    </span>\n",
       "<span style=\"color: #7fbfbf; text-decoration-color: #7fbfbf\">             </span><span style=\"color: #800000; text-decoration-color: #800000\">inaccurate results or divergence, please increase gap between any  </span>\n",
       "<span style=\"color: #7fbfbf; text-decoration-color: #7fbfbf\">             </span><span style=\"color: #800000; text-decoration-color: #800000\">structures and PML or fully extend structure through the pml.      </span>\n",
       "</pre>\n"
      ],
      "text/plain": [
       "\u001b[2;36m            \u001b[0m\u001b[2;36m \u001b[0m\u001b[31mWARNING: Structure at structures\u001b[0m\u001b[1;31m[\u001b[0m\u001b[1;36m0\u001b[0m\u001b[1;31m]\u001b[0m\u001b[31m was detected as being less than\u001b[0m\n",
       "\u001b[2;36m             \u001b[0m\u001b[31mhalf of a central wavelength from a PML on side z-max. To avoid    \u001b[0m\n",
       "\u001b[2;36m             \u001b[0m\u001b[31minaccurate results or divergence, please increase gap between any  \u001b[0m\n",
       "\u001b[2;36m             \u001b[0m\u001b[31mstructures and PML or fully extend structure through the pml.      \u001b[0m\n"
      ]
     },
     "metadata": {},
     "output_type": "display_data"
    },
    {
     "data": {
      "text/html": [
       "<pre style=\"white-space:pre;overflow-x:auto;line-height:normal;font-family:Menlo,'DejaVu Sans Mono',consolas,'Courier New',monospace\"><span style=\"color: #7fbfbf; text-decoration-color: #7fbfbf\">             </span><span style=\"color: #800000; text-decoration-color: #800000\">WARNING: Suppressed </span><span style=\"color: #008080; text-decoration-color: #008080; font-weight: bold\">40</span><span style=\"color: #800000; text-decoration-color: #800000\"> WARNING messages.                           </span>\n",
       "</pre>\n"
      ],
      "text/plain": [
       "\u001b[2;36m            \u001b[0m\u001b[2;36m \u001b[0m\u001b[31mWARNING: Suppressed \u001b[0m\u001b[1;36m40\u001b[0m\u001b[31m WARNING messages.                           \u001b[0m\n"
      ]
     },
     "metadata": {},
     "output_type": "display_data"
    },
    {
     "data": {
      "text/html": [
       "<pre style=\"white-space:pre;overflow-x:auto;line-height:normal;font-family:Menlo,'DejaVu Sans Mono',consolas,'Courier New',monospace\"><span style=\"color: #7fbfbf; text-decoration-color: #7fbfbf\">             </span><span style=\"color: #800000; text-decoration-color: #800000\">WARNING: Warning messages were found in the solver log. For more   </span>\n",
       "<span style=\"color: #7fbfbf; text-decoration-color: #7fbfbf\">             </span><span style=\"color: #800000; text-decoration-color: #800000\">information, check </span><span style=\"color: #008000; text-decoration-color: #008000\">'SimulationData.log'</span><span style=\"color: #800000; text-decoration-color: #800000\"> or use                     </span>\n",
       "<span style=\"color: #7fbfbf; text-decoration-color: #7fbfbf\">             </span><span style=\"color: #008000; text-decoration-color: #008000\">'web.download_log(task_id)'</span><span style=\"color: #800000; text-decoration-color: #800000\">.                                       </span>\n",
       "</pre>\n"
      ],
      "text/plain": [
       "\u001b[2;36m            \u001b[0m\u001b[2;36m \u001b[0m\u001b[31mWARNING: Warning messages were found in the solver log. For more   \u001b[0m\n",
       "\u001b[2;36m             \u001b[0m\u001b[31minformation, check \u001b[0m\u001b[32m'SimulationData.log'\u001b[0m\u001b[31m or use                     \u001b[0m\n",
       "\u001b[2;36m             \u001b[0m\u001b[32m'web.download_log\u001b[0m\u001b[32m(\u001b[0m\u001b[32mtask_id\u001b[0m\u001b[32m)\u001b[0m\u001b[32m'\u001b[0m\u001b[31m.                                       \u001b[0m\n"
      ]
     },
     "metadata": {},
     "output_type": "display_data"
    }
   ],
   "source": [
    "# Create the structures and geometry of the coupled line bandpass filter\n",
    "(total_L, total_W, xstarts, ystarts) = get_coupled_line_geometry(lengths, widths, gaps)\n",
    "coupled_lines = generate_coupled_lines(lengths, widths, gaps, xstarts, ystarts)\n",
    "\n",
    "# Define the simulation domain size with some extra padding based on central wavelength\n",
    "Lx = total_L + lda0 / 5\n",
    "Ly = total_W + lda0 / 5\n",
    "Lz = h_sub + lda0 / 8\n",
    "\n",
    "# Definition of mesh overrides\n",
    "mesh_overrides = [\n",
    "    # The first mesh override ensures the small height of the strips is accurately modeled.\n",
    "    td.MeshOverrideStructure(\n",
    "        geometry=td.Box(\n",
    "            center=[0, 0, h_trace / 2],\n",
    "            size=[1.1 * total_L, 1.1 * total_W, h_trace],\n",
    "        ),\n",
    "        dl=[total_L / 200, np.min(widths) / 20, h_trace],\n",
    "    ),\n",
    "    # The second mesh override refined the grid within the substrate.\n",
    "    td.MeshOverrideStructure(\n",
    "        geometry=td.Box(\n",
    "            center=[0, 0, -h_sub / 2],\n",
    "            size=[1.1 * total_L, 1.1 * total_W, h_sub],\n",
    "        ),\n",
    "        dl=[total_L / 200, np.min(widths) / 20, h_sub / 20],\n",
    "    ),\n",
    "]\n",
    "\n",
    "# The base tidy3D Simulation ready to be used by the TerminalComponentModeler\n",
    "sim = td.Simulation(\n",
    "    center=(0, 0, Lz / 2 - h_sub),\n",
    "    size=(Lx, Ly, Lz),\n",
    "    grid_spec=td.GridSpec.auto(\n",
    "        min_steps_per_wvl=40.0,\n",
    "        wavelength=lda0,\n",
    "        dl_min=h_trace / 5,\n",
    "        override_structures=mesh_overrides,\n",
    "    ),\n",
    "    structures=[substrate] + coupled_lines,\n",
    "    sources=[],\n",
    "    monitors=[field_monitor],\n",
    "    run_time=10e-9,\n",
    "    boundary_spec=boundary_spec,\n",
    "    # We turn off subpixel in this example, since the structures are rectilinear and well-resolved by the grid.\n",
    "    subpixel=False,\n",
    "    # pec_conformal_mesh_spec=td.StaircasingConformalMeshSpec(),\n",
    ")\n",
    "\n",
    "# Compute port xy locations\n",
    "port_left = (xstarts[0], ystarts[0] - widths[0] / 2)\n",
    "port_right = (xstarts[-1] + lengths[-1], ystarts[-1] - gaps[-1] - 1.5 * widths[-1])\n",
    "# Number of cells to refine ports with\n",
    "td_port_cells = 2\n",
    "reference_impedance = 50\n",
    "port_1_td = smatrix.LumpedPort(\n",
    "    center=(port_left[0], port_left[1], -h_sub / 2),\n",
    "    size=(0, widths[0], h_sub),\n",
    "    voltage_axis=2,\n",
    "    name=\"lumped_port_1\",\n",
    "    num_grid_cells=td_port_cells,\n",
    "    impedance=reference_impedance,\n",
    ")\n",
    "\n",
    "port_2_td = smatrix.LumpedPort(\n",
    "    center=(port_right[0], port_right[1], -h_sub / 2),\n",
    "    size=(0, widths[-1], h_sub),\n",
    "    voltage_axis=2,\n",
    "    name=\"lumped_port_2\",\n",
    "    num_grid_cells=td_port_cells,\n",
    "    impedance=reference_impedance,\n",
    ")\n",
    "\n",
    "modeler = smatrix.TerminalComponentModeler(\n",
    "    simulation=sim,\n",
    "    ports=[port_1_td, port_2_td],\n",
    "    freqs=freqs,\n",
    "    remove_dc_component=True,\n",
    "    verbose=True,\n",
    "    path_dir=\"data\",\n",
    ")\n",
    "\n",
    "# Run the jobs and save the scattering parameters\n",
    "s_matrix = modeler.run()"
   ]
  },
  {
   "cell_type": "markdown",
   "id": "c4b0c47e",
   "metadata": {},
   "source": [
    "# Plotting the Scattering Parameters from the Optimized Design\n",
    "\n",
    "We again create a transmission line model of the network using `scikit-rf` and the helper function `create_network_model_four_segment_coupler_with_scikit`. We plot the scattering parameters for the optimized design and compare to those computed by the `scikit-rf` model.\n",
    "\n",
    "The optimized filter is now centered at 6 GHz. In addition, the return loss has increased from 10 dB to just over 25 dB around the central frequency, which indicates much less reflected power."
   ]
  },
  {
   "cell_type": "code",
   "execution_count": 14,
   "id": "8891493d",
   "metadata": {},
   "outputs": [
    {
     "data": {
      "image/png": "[encoded data removed]",
      "text/plain": [
       "<Figure size 1100x300 with 2 Axes>"
      ]
     },
     "metadata": {},
     "output_type": "display_data"
    }
   ],
   "source": [
    "# Create the network using transmission line models for comparison with tidy3D simulations\n",
    "ntw = create_network_model_four_segment_coupler_with_scikit(\n",
    "    freqs=freqs,\n",
    "    lengths=lengths,\n",
    "    widths=widths,\n",
    "    height=h_sub,\n",
    "    gaps=gaps,\n",
    "    eps_sub=eps_sub,\n",
    ")\n",
    "\n",
    "# Plot the scattering parameters related to reflection and transmission\n",
    "_, (ax1, ax2) = plt.subplots(1, 2, figsize=(11, 3))\n",
    "ax1.plot(\n",
    "    freqs / 1e9,\n",
    "    20 * np.log10(np.abs(ntw.s[:, 0, 0])),\n",
    "    \"-r\",\n",
    "    s_matrix.f / 1e9,\n",
    "    20 * np.log10(np.abs(s_matrix.isel(port_out=0, port_in=0).values.flatten())),\n",
    "    \"--b\",\n",
    ")\n",
    "ax1.legend([\"scikit-rf\", \"Tidy3D\"], loc=\"lower right\")\n",
    "ax1.set_xlabel(\"Frequency (GHz)\")\n",
    "ax1.set_ylabel(r\"$|S_{11}|$ (dB)\")\n",
    "ax1.set_ylim([-50, 1])\n",
    "ax1.grid()\n",
    "\n",
    "ax2.plot(\n",
    "    freqs / 1e9,\n",
    "    20 * np.log10(np.abs(ntw.s[:, 0, 1])),\n",
    "    \"-r\",\n",
    "    s_matrix.f / 1e9,\n",
    "    20 * np.log10(np.abs(s_matrix.isel(port_out=0, port_in=1).values.flatten())),\n",
    "    \"--b\",\n",
    ")\n",
    "ax2.legend([\"scikit-rf\", \"Tidy3D\"], loc=\"upper right\")\n",
    "ax2.set_xlabel(\"Frequency (GHz)\")\n",
    "ax2.set_ylabel(r\"$|S_{12}|$ (dB)\")\n",
    "ax2.set_ylim([-50, 1])\n",
    "ax2.grid()"
   ]
  },
  {
   "cell_type": "markdown",
   "id": "49ce7b9a",
   "metadata": {},
   "source": [
    "## References\n",
    "\n",
    "[1]   Taoufik, Ragani, N. Amar Touhami, and M. Agoutane. \"Designing a Microstrip coupled line bandpass filter.\"\n",
    "      International Journal of Engineering & Technology 2, no. 4 (2013): 266.\n",
    "\n",
    "[2]   David M. Pozar, \"Microwave Filters\" in Microwave Engineering, 4th ed. 2011, ch. 8."
   ]
  }
 ],
 "metadata": {
  "kernelspec": {
   "display_name": "Python 3 (ipykernel)",
   "language": "python",
   "name": "python3"
  },
  "language_info": {
   "codemirror_mode": {
    "name": "ipython",
    "version": 3
   },
   "file_extension": ".py",
   "mimetype": "text/x-python",
   "name": "python",
   "nbconvert_exporter": "python",
   "pygments_lexer": "ipython3",
   "version": "3.11.8"
  }
 },
 "nbformat": 4,
 "nbformat_minor": 5
}
